{
 "cells": [
  {
   "cell_type": "markdown",
   "metadata": {},
   "source": [
    "## Rename IQ tree output file \n",
    "  - add country\n",
    "  - collection date\n",
    "  - host/ collection source\n",
    "  - TempEst Tutorial: \n",
    "    - https://beast.community/tempest_tutorial"
   ]
  },
  {
   "cell_type": "code",
   "execution_count": 160,
   "metadata": {},
   "outputs": [],
   "source": [
    "import pandas as pd\n",
    "import os\n",
    "from Bio import Phylo"
   ]
  },
  {
   "cell_type": "code",
   "execution_count": 161,
   "metadata": {},
   "outputs": [],
   "source": [
    "global_path = \"/Users/rachel/Dropbox/5.Rachel-projects/Phylogeography/Dated_Assemblies/Global\"\n",
    "latin_path = \"/Users/rachel/Dropbox/5.Rachel-projects/Phylogeography/Dated_Assemblies/Latin\"\n",
    "tree_path=\"/Users/rachel/Desktop\""
   ]
  },
  {
   "cell_type": "markdown",
   "metadata": {},
   "source": [
    "### Global Metadata"
   ]
  },
  {
   "cell_type": "code",
   "execution_count": 152,
   "metadata": {},
   "outputs": [],
   "source": [
    "\n",
    "global_meta = pd.read_csv(global_path + \"/388_global_metadata_fig_ann.txt\",sep=\"\\t\",keep_default_na=False)\n",
    "\n",
    "sample_host_dict = global_meta[['BioSample.Accession',\"Host.Name.x\"]].set_index(\n",
    "    \"BioSample.Accession\").to_dict()[\"Host.Name.x\"]\n",
    "\n",
    "for biosample in sample_host_dict:\n",
    "    sample_host_dict[biosample] = sample_host_dict[biosample].replace(\" \",\"_\")\n",
    "\n",
    "sample_date_dict= global_meta[['BioSample.Accession',\"Collection.Date.Formatted\"]].set_index(\n",
    "    \"BioSample.Accession\").to_dict()[\"Collection.Date.Formatted\"]\n",
    "\n",
    "sample_country_dict=global_meta[['BioSample.Accession',\"country\"]].set_index(\n",
    "    \"BioSample.Accession\").to_dict()[\"country\"]\n",
    "\n",
    "\n",
    "\n",
    "# df = pd.read_csv(path + \"/388_global_metadata_fig_ann.txt\",sep=\"\\t\")\n",
    "# mask = df[\"Genome.Name.x\"]== \"Leptospira interrogans serovar Canicola\"\n",
    "# mask\n",
    "# df.loc[mask]"
   ]
  },
  {
   "cell_type": "code",
   "execution_count": 158,
   "metadata": {},
   "outputs": [],
   "source": [
    "tree = Phylo.read(tree_path + \"/iqtree_all_date.treefile\",\"newick\")\n",
    "\n",
    "for taxa in sample_date_dict:\n",
    "    newname=taxa + \"/\" + sample_date_dict[taxa]+ \"/\"  + sample_host_dict[taxa]+ \"/\"  + sample_country_dict[taxa]\n",
    "    tree.find_any(taxa).name = newname\n"
   ]
  },
  {
   "cell_type": "code",
   "execution_count": 159,
   "metadata": {},
   "outputs": [
    {
     "data": {
      "text/plain": [
       "1"
      ]
     },
     "execution_count": 159,
     "metadata": {},
     "output_type": "execute_result"
    }
   ],
   "source": [
    "Phylo.write(tree, tree_path + \"/renamed_global_iqtree.treefile\",\"newick\")"
   ]
  },
  {
   "cell_type": "markdown",
   "metadata": {},
   "source": [
    "### Latin Metadata"
   ]
  },
  {
   "cell_type": "code",
   "execution_count": 183,
   "metadata": {},
   "outputs": [],
   "source": [
    "\n",
    "latin_meta = pd.read_csv(latin_path + \"/latin_date_figAnn.txt\",sep=\"\\t\",keep_default_na=False)\n",
    "latin_meta\n",
    "latin_sample_host_dict = latin_meta[['BioSample.Accession',\"Host\"]].set_index(\n",
    "    \"BioSample.Accession\").to_dict()[\"Host\"]\n",
    "\n",
    "for biosample in latin_sample_host_dict:\n",
    "    latin_sample_host_dict[biosample] = latin_sample_host_dict[biosample].replace(\" \",\"_\")\n",
    "\n",
    "latin_sample_date_dict= latin_meta[['BioSample.Accession',\"Collection.Date.Formatted\"]].set_index(\n",
    "    \"BioSample.Accession\").to_dict()[\"Collection.Date.Formatted\"]\n",
    "\n",
    "latin_sample_country_dict=latin_meta[['BioSample.Accession',\"country\"]].set_index(\n",
    "    \"BioSample.Accession\").to_dict()[\"country\"]"
   ]
  },
  {
   "cell_type": "markdown",
   "metadata": {},
   "source": [
    "### Latin Tree"
   ]
  },
  {
   "cell_type": "code",
   "execution_count": 189,
   "metadata": {},
   "outputs": [],
   "source": [
    "tree_latin = Phylo.read(tree_path + \"/iqtree_latin.treefile\",\"newick\")\n",
    "\n",
    "for taxa in latin_sample_date_dict:\n",
    "    newname=taxa + \"/\" + latin_sample_date_dict[taxa] + \"/\"  + latin_sample_host_dict[taxa]+ \"/\"  + latin_sample_country_dict[taxa]\n",
    "    tree_latin.find_any(taxa).name = newname\n",
    "\n"
   ]
  },
  {
   "cell_type": "code",
   "execution_count": 191,
   "metadata": {},
   "outputs": [
    {
     "data": {
      "text/plain": [
       "1"
      ]
     },
     "execution_count": 191,
     "metadata": {},
     "output_type": "execute_result"
    }
   ],
   "source": [
    "Phylo.write(tree_latin, tree_path + \"/renamed_latin_iqtree.treefile\",\"newick\")"
   ]
  },
  {
   "cell_type": "code",
   "execution_count": null,
   "metadata": {},
   "outputs": [],
   "source": []
  }
 ],
 "metadata": {
  "kernelspec": {
   "display_name": "Python 3",
   "language": "python",
   "name": "python3"
  },
  "language_info": {
   "codemirror_mode": {
    "name": "ipython",
    "version": 3
   },
   "file_extension": ".py",
   "mimetype": "text/x-python",
   "name": "python",
   "nbconvert_exporter": "python",
   "pygments_lexer": "ipython3",
   "version": "3.7.4"
  }
 },
 "nbformat": 4,
 "nbformat_minor": 4
}
