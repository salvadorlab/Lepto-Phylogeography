{
 "cells": [
  {
   "cell_type": "code",
   "execution_count": 78,
   "metadata": {},
   "outputs": [],
   "source": [
    "import pandas as pd\n",
    "from Bio import Entrez\n",
    "import os\n"
   ]
  },
  {
   "cell_type": "code",
   "execution_count": 79,
   "metadata": {},
   "outputs": [],
   "source": [
    "path=\"/Users/rachel/Desktop/test_fastGear_post/\""
   ]
  },
  {
   "cell_type": "markdown",
   "metadata": {},
   "source": [
    "### Biosample ID Modification\n",
    "\n",
    " - Biosample id in \n",
    " \n",
    "    1) lineage_information.txt\n",
    "    \n",
    "    2) recombinations_recent.txt were labelled with locus Id attached after \"_\"\n",
    "    \n",
    " - this could prevent the combination of all genes' fastGear result together\n",
    " - we will modify the biosample name within these two files use code below\n",
    " - the combined visualization of all gene can then be plotted with https://github.com/salvadorlab/Lepto-Phylogeography/blob/master/post_fastGEAR.py\n",
    " - need a tree (use iqtree to reconstruct with core_alignment.fasta from PIRATE) or biosample list order before plotting"
   ]
  },
  {
   "cell_type": "code",
   "execution_count": 113,
   "metadata": {},
   "outputs": [],
   "source": [
    "\n",
    "for dir in os.listdir(path):\n",
    "    \n",
    "    if \"g0\" in dir: # if is a gene folder\n",
    "        for subdir in os.listdir(path + dir): # iterate over this folder\n",
    "            \n",
    "            if subdir == \"output\":\n",
    "                for file in os.listdir(path + dir + \"/\"+ subdir):\n",
    "                    \n",
    "                    if file == \"lineage_information.txt\":\n",
    "                        with open(path+dir+\"/\"+subdir+\"/\"+file) as f:\n",
    "                            header=f.readline() # read the header of the file\n",
    "                            newfile_str=header # add header to the new file str\n",
    "                            for line in f:\n",
    "                                biosample_pre = line.split(\" \") # turn line read-in into a list\n",
    "                                biosample_post = biosample_pre[-1].split(\"_\")[0] # take the original biosample id in the list and modify\n",
    "                                biosample_pre[-1]=biosample_post # assign the modified id to the list\n",
    "                                newline= \" \".join(biosample_pre)+\"\\n\" # convert list back to str\n",
    "                                newfile_str=newfile_str+newline # add newline to the newfile str\n",
    "                            with open(path+dir+\"/\"+subdir+\"/\"+\"lineage_information_2.txt\",\"w\") as w:\n",
    "                                w.write(newfile_str) # write the newfile into newfile\n",
    "                                \n",
    "                    if file == \"recombinations_recent.txt\":\n",
    "                        with open(path+ dir+ \"/\"+subdir+\"/\"+file) as f:\n",
    "                            summary=f.readline()\n",
    "                            newfile_str= summary\n",
    "                            if summary[0] == \"0\": # if no recent recombination \n",
    "                                header=f.readline() # w/o recomb in gene, header still exists in file\n",
    "                                newfile_str=newfile_str + header\n",
    "                                with open(path+dir+\"/\"+subdir+\"/\"+\"recombinations_recent_2.txt\",\"w\") as w:\n",
    "                                    w.write(newfile_str)\n",
    "                            else:\n",
    "                                header=f.readline() # get header\n",
    "                                newfile_str=newfile_str + header # add header to new file string\n",
    "                                for line in f:\n",
    "                                    biosample_pre=line.split(\" \")\n",
    "                                    biosample_post=biosample_pre[-1].split(\"_\")[0]\n",
    "                                    biosample_pre[-1]=biosample_post\n",
    "                                    newline=\" \".join(biosample_pre)+\"\\n\"\n",
    "                                    newfile_str=newfile_str+newline # add newline to newfile str\n",
    "                            with open(path+dir+\"/\"+subdir+\"/\"+\"recombinations_recent_2.txt\",\"w\") as w:\n",
    "                                    w.write(newfile_str)\n",
    "                                    \n",
    "                                    \n",
    "                                    \n",
    "                                \n",
    "                        \n",
    "#                         recent=pd.read_csv(path + dir + \"/\"+ subdir + \"/recombinations_recent.txt\",skiprows=[0],delim_whitespace=True)\n",
    "#                         recent[\"StrainName\"].apply(lambda x : x .split(\"_\")[0])\n",
    "#                         recent.to_csv(path + dir + \"/\"+ subdir + \"/recombinations_recent_2.txt\",sep=\" \",header=True,index=False )\n",
    "                        "
   ]
  },
  {
   "cell_type": "code",
   "execution_count": 42,
   "metadata": {},
   "outputs": [
    {
     "data": {
      "text/plain": [
       "'SAMN12871448'"
      ]
     },
     "execution_count": 42,
     "metadata": {},
     "output_type": "execute_result"
    }
   ],
   "source": [
    "\"SAMN12871448_02823\".split(  \"_\")[0]"
   ]
  },
  {
   "cell_type": "code",
   "execution_count": 62,
   "metadata": {},
   "outputs": [],
   "source": [
    "lineagelineage=pd.read_csv(path + dir + \"/\"+ subdir + \"/lineage_information.txt\",skiprows=[0],delim_whitespace=True,header=None)"
   ]
  },
  {
   "cell_type": "code",
   "execution_count": 69,
   "metadata": {},
   "outputs": [
    {
     "data": {
      "text/html": [
       "<div>\n",
       "<style scoped>\n",
       "    .dataframe tbody tr th:only-of-type {\n",
       "        vertical-align: middle;\n",
       "    }\n",
       "\n",
       "    .dataframe tbody tr th {\n",
       "        vertical-align: top;\n",
       "    }\n",
       "\n",
       "    .dataframe thead th {\n",
       "        text-align: right;\n",
       "    }\n",
       "</style>\n",
       "<table border=\"1\" class=\"dataframe\">\n",
       "  <thead>\n",
       "    <tr style=\"text-align: right;\">\n",
       "      <th></th>\n",
       "      <th>1</th>\n",
       "      <th>3</th>\n",
       "      <th>6</th>\n",
       "      <th>SAMEA1012006_02707</th>\n",
       "    </tr>\n",
       "  </thead>\n",
       "  <tbody>\n",
       "    <tr>\n",
       "      <th>0</th>\n",
       "      <td>2</td>\n",
       "      <td>3</td>\n",
       "      <td>6</td>\n",
       "      <td>SAMEA1012014_03130</td>\n",
       "    </tr>\n",
       "    <tr>\n",
       "      <th>1</th>\n",
       "      <td>3</td>\n",
       "      <td>3</td>\n",
       "      <td>3</td>\n",
       "      <td>SAMEA1012026_02715</td>\n",
       "    </tr>\n",
       "    <tr>\n",
       "      <th>2</th>\n",
       "      <td>4</td>\n",
       "      <td>3</td>\n",
       "      <td>4</td>\n",
       "      <td>SAMEA104369440_01730</td>\n",
       "    </tr>\n",
       "    <tr>\n",
       "      <th>3</th>\n",
       "      <td>5</td>\n",
       "      <td>3</td>\n",
       "      <td>4</td>\n",
       "      <td>SAMEA104369441_00292</td>\n",
       "    </tr>\n",
       "    <tr>\n",
       "      <th>4</th>\n",
       "      <td>6</td>\n",
       "      <td>3</td>\n",
       "      <td>4</td>\n",
       "      <td>SAMEA5168039_02384</td>\n",
       "    </tr>\n",
       "    <tr>\n",
       "      <th>...</th>\n",
       "      <td>...</td>\n",
       "      <td>...</td>\n",
       "      <td>...</td>\n",
       "      <td>...</td>\n",
       "    </tr>\n",
       "    <tr>\n",
       "      <th>434</th>\n",
       "      <td>436</td>\n",
       "      <td>3</td>\n",
       "      <td>5</td>\n",
       "      <td>SAMN12567456_02020</td>\n",
       "    </tr>\n",
       "    <tr>\n",
       "      <th>435</th>\n",
       "      <td>437</td>\n",
       "      <td>3</td>\n",
       "      <td>5</td>\n",
       "      <td>SAMN12567526_03562</td>\n",
       "    </tr>\n",
       "    <tr>\n",
       "      <th>436</th>\n",
       "      <td>438</td>\n",
       "      <td>3</td>\n",
       "      <td>6</td>\n",
       "      <td>SAMN12588099_00728</td>\n",
       "    </tr>\n",
       "    <tr>\n",
       "      <th>437</th>\n",
       "      <td>439</td>\n",
       "      <td>3</td>\n",
       "      <td>4</td>\n",
       "      <td>SAMN12871420_02814</td>\n",
       "    </tr>\n",
       "    <tr>\n",
       "      <th>438</th>\n",
       "      <td>440</td>\n",
       "      <td>3</td>\n",
       "      <td>4</td>\n",
       "      <td>SAMN12871448_02822</td>\n",
       "    </tr>\n",
       "  </tbody>\n",
       "</table>\n",
       "<p>439 rows × 4 columns</p>\n",
       "</div>"
      ],
      "text/plain": [
       "       1  3  6    SAMEA1012006_02707\n",
       "0      2  3  6    SAMEA1012014_03130\n",
       "1      3  3  3    SAMEA1012026_02715\n",
       "2      4  3  4  SAMEA104369440_01730\n",
       "3      5  3  4  SAMEA104369441_00292\n",
       "4      6  3  4    SAMEA5168039_02384\n",
       "..   ... .. ..                   ...\n",
       "434  436  3  5    SAMN12567456_02020\n",
       "435  437  3  5    SAMN12567526_03562\n",
       "436  438  3  6    SAMN12588099_00728\n",
       "437  439  3  4    SAMN12871420_02814\n",
       "438  440  3  4    SAMN12871448_02822\n",
       "\n",
       "[439 rows x 4 columns]"
      ]
     },
     "execution_count": 69,
     "metadata": {},
     "output_type": "execute_result"
    }
   ],
   "source": [
    "lineage"
   ]
  },
  {
   "cell_type": "code",
   "execution_count": null,
   "metadata": {},
   "outputs": [],
   "source": []
  }
 ],
 "metadata": {
  "kernelspec": {
   "display_name": "Python 3",
   "language": "python",
   "name": "python3"
  },
  "language_info": {
   "codemirror_mode": {
    "name": "ipython",
    "version": 3
   },
   "file_extension": ".py",
   "mimetype": "text/x-python",
   "name": "python",
   "nbconvert_exporter": "python",
   "pygments_lexer": "ipython3",
   "version": "3.7.4"
  }
 },
 "nbformat": 4,
 "nbformat_minor": 4
}
