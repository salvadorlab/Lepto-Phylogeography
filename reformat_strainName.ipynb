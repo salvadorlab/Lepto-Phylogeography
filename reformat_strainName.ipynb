{
 "cells": [
  {
   "cell_type": "code",
   "execution_count": 2,
   "metadata": {},
   "outputs": [],
   "source": [
    "import pandas as pd\n",
    "from Bio import Entrez\n",
    "import os\n"
   ]
  },
  {
   "cell_type": "code",
   "execution_count": 3,
   "metadata": {},
   "outputs": [],
   "source": [
    "path=\"/Users/rachel/Desktop/test_fastGear_post/\""
   ]
  },
  {
   "cell_type": "markdown",
   "metadata": {},
   "source": [
    "### Biosample ID Modification for _fastGear_ output\n",
    "\n",
    " - Biosample id in \n",
    " \n",
    "    1) lineage_information.txt\n",
    "    \n",
    "    2) recombinations_recent.txt were labelled with locus Id attached after \"_\"\n",
    "    \n",
    " - this could prevent the combination of all genes' fastGear result together\n",
    " - we will modify the biosample name within these two files use code below\n",
    " - the combined visualization of all gene can then be plotted with https://github.com/salvadorlab/Lepto-Phylogeography/blob/master/post_fastGEAR.py\n",
    " - need a tree (use iqtree to reconstruct with core_alignment.fasta from PIRATE) or biosample list order before plotting"
   ]
  },
  {
   "cell_type": "code",
   "execution_count": 5,
   "metadata": {},
   "outputs": [],
   "source": [
    "\n",
    "for dir in os.listdir(path):\n",
    "    \n",
    "    if \"g0\" in dir: # if is a gene folder\n",
    "        for subdir in os.listdir(path + dir): # iterate over this folder\n",
    "            \n",
    "            if subdir == \"output\":\n",
    "                for file in os.listdir(path + dir + \"/\"+ subdir):\n",
    "                    \n",
    "                    if file == \"lineage_information.txt\":\n",
    "                        with open(path+dir+\"/\"+subdir+\"/\"+file) as f:\n",
    "                            header=f.readline() # read the header of the file\n",
    "                            newfile_str=header # add header to the new file str\n",
    "                            for line in f:\n",
    "                                biosample_pre = line.split(\" \") # turn line read-in into a list\n",
    "                                biosample_post = biosample_pre[-1].split(\"_\")[0] # take the original biosample id in the list and modify\n",
    "                                biosample_pre[-1]=biosample_post # assign the modified id to the list\n",
    "                                newline= \" \".join(biosample_pre)+\"\\n\" # convert list back to str\n",
    "                                newfile_str=newfile_str+newline # add newline to the newfile str\n",
    "                            with open(path+dir+\"/\"+subdir+\"/\"+\"lineage_information_2.txt\",\"w\") as w:\n",
    "                                w.write(newfile_str) # write the newfile into newfile\n",
    "                                \n",
    "                    if file == \"recombinations_recent.txt\":\n",
    "                        with open(path+ dir+ \"/\"+subdir+\"/\"+file) as f:\n",
    "                            summary=f.readline()\n",
    "                            newfile_str= summary\n",
    "                            if summary[0] == \"0\": # if no recent recombination \n",
    "                                header=f.readline() # w/o recomb in gene, header still exists in file\n",
    "                                newfile_str=newfile_str + header\n",
    "                                with open(path+dir+\"/\"+subdir+\"/\"+\"recombinations_recent_2.txt\",\"w\") as w:\n",
    "                                    w.write(newfile_str)\n",
    "                            else:\n",
    "                                header=f.readline() # get header\n",
    "                                newfile_str=newfile_str + header # add header to new file string\n",
    "                                for line in f:\n",
    "                                    biosample_pre=line.split(\" \")\n",
    "                                    biosample_post=biosample_pre[-1].split(\"_\")[0]\n",
    "                                    biosample_pre[-1]=biosample_post\n",
    "                                    newline=\" \".join(biosample_pre)+\"\\n\"\n",
    "                                    newfile_str=newfile_str+newline # add newline to newfile str\n",
    "                            with open(path+dir+\"/\"+subdir+\"/\"+\"recombinations_recent_2.txt\",\"w\") as w:\n",
    "                                    w.write(newfile_str)\n",
    "                                    \n",
    "                                    \n"
   ]
  },
  {
   "cell_type": "code",
   "execution_count": null,
   "metadata": {},
   "outputs": [],
   "source": []
  }
 ],
 "metadata": {
  "kernelspec": {
   "display_name": "Python 3",
   "language": "python",
   "name": "python3"
  },
  "language_info": {
   "codemirror_mode": {
    "name": "ipython",
    "version": 3
   },
   "file_extension": ".py",
   "mimetype": "text/x-python",
   "name": "python",
   "nbconvert_exporter": "python",
   "pygments_lexer": "ipython3",
   "version": "3.7.4"
  }
 },
 "nbformat": 4,
 "nbformat_minor": 4
}
