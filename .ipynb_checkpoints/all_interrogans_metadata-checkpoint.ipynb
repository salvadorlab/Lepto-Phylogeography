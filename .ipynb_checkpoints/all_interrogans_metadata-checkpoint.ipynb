{
 "cells": [
  {
   "cell_type": "code",
   "execution_count": 3,
   "metadata": {},
   "outputs": [],
   "source": [
    "import pandas as pd\n",
    "from Bio import Entrez\n",
    "import xml.etree.ElementTree as ET\n"
   ]
  },
  {
   "cell_type": "code",
   "execution_count": 4,
   "metadata": {},
   "outputs": [],
   "source": [
    "path=\"/Users/rachel/Dropbox/5.Rachel-projects/Phylogeography/Interrogans/\""
   ]
  },
  {
   "cell_type": "code",
   "execution_count": 48,
   "metadata": {},
   "outputs": [],
   "source": [
    "# metadata for all 389 Leptopsira with assembly dates\n",
    "\n",
    "metadata_db = ET.parse(path + \"ncbi_biosample_db_all.xml\") # search \"Leptospira interrogan\" in NCBI database\n",
    "\n",
    "# write xml into a dataframe\n",
    "\n",
    "with open(path + \"ncbi_biosample_db_all.csv\",\"w\") as f:\n",
    "    headers=\"BioSample.Accession,Collection.Date,La.lon,Host.Name,Geographic.Location,country,Isolation.Source,Strain,Serovar,Genome.Name,Institute\\n\"\n",
    "    f.write(headers)\n",
    "\n",
    "all_biosample_root= metadata_db.getroot()\n",
    "\n",
    "for biosample in all_biosample_root.findall(\"BioSample\"):\n",
    "    # set all variable to empty str to avoid nonotype\n",
    "    bios_acc=\"\"\n",
    "    collection_date=\"\"\n",
    "    lat_lon=\"\"\n",
    "    host=\"\"\n",
    "    location=\"\"\n",
    "    iso_source =\"\"\n",
    "    strain =\"\"\n",
    "    serovar =\"\"\n",
    "    institute=\"\"\n",
    "    country=\"\"\n",
    "    \n",
    "    bios_acc = biosample.find(\"Ids\").find(\"Id\").text\n",
    "    name = biosample.find(\"Description\").find(\"Title\").text\n",
    "    institute = biosample.find(\"Owner\").find(\"Name\").text\n",
    "    if institute == None:\n",
    "        institute = \"\"\n",
    "    elif \",\" in institute:\n",
    "        institute = institute.replace(\",\",\":\")\n",
    "\n",
    "    \n",
    "    for attribute in biosample.find(\"Attributes\").findall(\"Attribute\"):\n",
    "        if attribute.attrib.get(\"display_name\") == \"collection date\":\n",
    "            collection_date = attribute.text\n",
    "        if attribute.attrib.get(\"attribute_name\") == \"lat_lon\":\n",
    "            lat_lon = attribute.text\n",
    "            if \",\" in lat_lon:\n",
    "                lat_lon= lat_lon.replace(\",\",\" \")\n",
    "        if attribute.attrib.get(\"display_name\") == \"host\":\n",
    "            host=attribute.text\n",
    "        if attribute.attrib.get(\"display_name\") == \"geographic location\":\n",
    "            location = attribute.text\n",
    "            if \",\" in location:\n",
    "                location= location.replace(\",\",\" \")\n",
    "            if \":\" in location:\n",
    "                country = location.split(\":\")[0] # extract country\n",
    "            else:\n",
    "                country=location\n",
    "        if attribute.attrib.get(\"display_name\") == \"isolation source\":\n",
    "            iso_source = attribute.text\n",
    "            if \",\" in iso_source:\n",
    "                iso_source= iso_source.replace(\",\",\" \")\n",
    "        if attribute.attrib.get(\"display_name\") == \"strain\":\n",
    "            strain = attribute.text\n",
    "        if attribute.attrib.get(\"display_name\") == \"serovar\":\n",
    "            serovar = attribute.text\n",
    "\n",
    "    complete_str =  bios_acc+ \",\"  +collection_date + \",\" + lat_lon + \",\" +  host+ \",\"+ location+\",\"+country+ \",\"+iso_source+ \",\"+strain+ \",\"+serovar+ \",\"+ name+ \",\"+institute + \"\\n\"\n",
    "   \n",
    "    with open(path + \"ncbi_biosample_db_all.csv\", \"a+\") as f:\n",
    "        f.write(complete_str) \n",
    "    \n",
    "\n",
    "        \n",
    "    "
   ]
  },
  {
   "cell_type": "code",
   "execution_count": 56,
   "metadata": {},
   "outputs": [],
   "source": [
    "# read 440 Leptospira isolates biosample list, coverage and other info \n",
    "interrogans_440= pd.read_csv(path+\"all_interrogans_440.csv\", index_col=False)\n",
    "# rename the acc column to match the db, prepare for merging\n",
    "interrogans_440=interrogans_440.rename(columns = {\"Sample\":\"BioSample.Accession\"}) \n",
    "# read the database we created from last block\n",
    "interrogan_db=pd.read_csv(path+\"ncbi_biosample_db_all.csv\")\n"
   ]
  },
  {
   "cell_type": "code",
   "execution_count": 65,
   "metadata": {},
   "outputs": [],
   "source": [
    "# merge all Leptospira isolates (440) with data frame created above, drop those not in the interrogans list\n",
    "\n",
    "interrogans_440_2 =interrogans_440.merge(interrogan_db,  how=\"left\",on=\"BioSample.Accession\")\n"
   ]
  },
  {
   "cell_type": "code",
   "execution_count": 66,
   "metadata": {},
   "outputs": [],
   "source": [
    "interrogans_440_2.to_csv(path+\"all_interrogans_metadata_440.csv\")"
   ]
  },
  {
   "cell_type": "code",
   "execution_count": null,
   "metadata": {},
   "outputs": [],
   "source": []
  }
 ],
 "metadata": {
  "kernelspec": {
   "display_name": "Python 3",
   "language": "python",
   "name": "python3"
  },
  "language_info": {
   "codemirror_mode": {
    "name": "ipython",
    "version": 3
   },
   "file_extension": ".py",
   "mimetype": "text/x-python",
   "name": "python",
   "nbconvert_exporter": "python",
   "pygments_lexer": "ipython3",
   "version": "3.7.4"
  }
 },
 "nbformat": 4,
 "nbformat_minor": 4
}
