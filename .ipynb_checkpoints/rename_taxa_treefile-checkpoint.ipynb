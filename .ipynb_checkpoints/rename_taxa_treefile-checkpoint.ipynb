{
 "cells": [
  {
   "cell_type": "markdown",
   "metadata": {},
   "source": [
    "## Rename IQ tree output file \n",
    "  - add country\n",
    "  - collection date\n",
    "  - host/ collection source\n",
    "  - TempEst Tutorial: \n",
    "    - https://beast.community/tempest_tutorial"
   ]
  },
  {
   "cell_type": "code",
   "execution_count": 1,
   "metadata": {},
   "outputs": [],
   "source": [
    "import pandas as pd\n",
    "import os\n",
    "from Bio import Phylo"
   ]
  },
  {
   "cell_type": "code",
   "execution_count": 5,
   "metadata": {},
   "outputs": [],
   "source": [
    "Dated_path=\"/Users/rachel/Dropbox/5.Rachel-projects/Phylogeography/Lepto_information_V3/all_species/assemblies/GTRFR5_treefiles_piratecore/\"\n",
    "global_path = \"/Users/rachel/Dropbox/5.Rachel-projects/Phylogeography/Dated_Assemblies/Global\"\n",
    "latin_path = \"/Users/rachel/Dropbox/5.Rachel-projects/Phylogeography/Dated_Assemblies/Latin\"\n",
    "tree_path=\"/Users/rachel/Desktop\"\n",
    "int_path=\"/Users/rachel/Dropbox/5.Rachel-projects/Phylogeography/Interrogans/\""
   ]
  },
  {
   "cell_type": "markdown",
   "metadata": {},
   "source": [
    "### Global Dated Isolates' Metadata"
   ]
  },
  {
   "cell_type": "code",
   "execution_count": 43,
   "metadata": {},
   "outputs": [],
   "source": [
    "\n",
    "global_meta = pd.read_csv(global_path + \"/388_global_metadata_fig_ann_v1.txt\",sep=\"\\t\",keep_default_na=False)\n",
    "\n",
    "sample_host_dict = global_meta[['BioSample.Accession',\"Host.Name.x\"]].set_index(\n",
    "    \"BioSample.Accession\").to_dict()[\"Host.Name.x\"]\n",
    "\n",
    "for biosample in sample_host_dict:\n",
    "    sample_host_dict[biosample] = sample_host_dict[biosample].replace(\" \",\"_\")\n",
    "\n",
    "sample_date_dict= global_meta[['BioSample.Accession',\"Year\"]].set_index(\n",
    "    \"BioSample.Accession\").to_dict()[\"Year\"]\n",
    "\n",
    "sample_country_dict=global_meta[['BioSample.Accession',\"country\"]].set_index(\n",
    "    \"BioSample.Accession\").to_dict()[\"country\"]\n",
    "\n",
    "\n",
    "\n",
    "# df = pd.read_csv(path + \"/388_global_metadata_fig_ann.txt\",sep=\"\\t\")\n",
    "# mask = df[\"Genome.Name.x\"]== \"Leptospira interrogans serovar Canicola\"\n",
    "# mask\n",
    "# df.loc[mask]"
   ]
  },
  {
   "cell_type": "markdown",
   "metadata": {},
   "source": [
    "### All Interrogans Isolates' Metadata"
   ]
  },
  {
   "cell_type": "code",
   "execution_count": 44,
   "metadata": {},
   "outputs": [],
   "source": [
    "int_meta = pd.read_csv(int_path + \"all_interrogans_metadata_440_edited.csv\"\n",
    "           ,keep_default_na=False)[[\"BioSample.Accession\",\"country\",\"Year\",\"Serovar_2\",\"Host.Name\"]]\n",
    "\n",
    "int_year_dict=int_meta[[\"BioSample.Accession\",\"Year\"]].set_index(\n",
    "\"BioSample.Accession\").to_dict()[\"Year\"]\n",
    "int_country_dict=int_meta[[\"BioSample.Accession\",\"country\"]].set_index(\n",
    "\"BioSample.Accession\").to_dict()[\"country\"]\n",
    "int_host_dict=int_meta[[\"BioSample.Accession\",\"Host.Name\"]].set_index(\n",
    "\"BioSample.Accession\").to_dict()[\"Host.Name\"]\n",
    "for biosample in int_host_dict:\n",
    "    if int_host_dict[biosample] != 'NA': \n",
    "        int_host_dict[biosample] = int_host_dict[biosample].replace(\" \",\"_\")\n"
   ]
  },
  {
   "cell_type": "code",
   "execution_count": 48,
   "metadata": {},
   "outputs": [
    {
     "data": {
      "text/plain": [
       "1"
      ]
     },
     "execution_count": 48,
     "metadata": {},
     "output_type": "execute_result"
    }
   ],
   "source": [
    "all_int_tree = Phylo.read(tree_path + \"/global_iqtree/all_int_core.treefile\",\"newick\")\n",
    "\n",
    "for taxa in int_year_dict:\n",
    "    newname=taxa + \"/\" + str(int_year_dict[taxa])+ \"/\"  + int_host_dict[taxa]+ \"/\"  + int_country_dict[taxa]\n",
    "    all_int_tree.find_any(taxa).name = newname\n",
    "\n",
    "Phylo.write(all_int_tree,tree_path + \"/global_iqtree/renamed_all_int_core.treefile\",\"newick\")"
   ]
  },
  {
   "cell_type": "code",
   "execution_count": 7,
   "metadata": {},
   "outputs": [],
   "source": [
    "tree = Phylo.read(tree_path + \"/global_iqtree/iqtree_all_date.treefile\",\"newick\")\n",
    "\n",
    "for taxa in sample_date_dict:\n",
    "    newname=taxa + \"/\" + str(sample_date_dict[taxa])+ \"/\"  + sample_host_dict[taxa]+ \"/\"  + sample_country_dict[taxa]\n",
    "    tree.find_any(taxa).name = newname\n"
   ]
  },
  {
   "cell_type": "code",
   "execution_count": 8,
   "metadata": {},
   "outputs": [
    {
     "data": {
      "text/plain": [
       "1"
      ]
     },
     "execution_count": 8,
     "metadata": {},
     "output_type": "execute_result"
    }
   ],
   "source": [
    "Phylo.write(tree, tree_path + \"/global_iqtree/renamed_global_iqtree.treefile\",\"newick\")"
   ]
  },
  {
   "cell_type": "markdown",
   "metadata": {},
   "source": [
    "### Latin Metadata"
   ]
  },
  {
   "cell_type": "code",
   "execution_count": 197,
   "metadata": {},
   "outputs": [],
   "source": [
    "\n",
    "latin_meta = pd.read_csv(latin_path + \"/latin_date_figAnn.txt\",sep=\"\\t\",keep_default_na=False)\n",
    "latin_meta\n",
    "latin_sample_host_dict = latin_meta[['BioSample.Accession',\"Host\"]].set_index(\n",
    "    \"BioSample.Accession\").to_dict()[\"Host\"]\n",
    "\n",
    "for biosample in latin_sample_host_dict:\n",
    "    latin_sample_host_dict[biosample] = latin_sample_host_dict[biosample].replace(\" \",\"_\")\n",
    "\n",
    "latin_sample_date_dict= latin_meta[['BioSample.Accession',\"Collection.Date.Formatted\"]].set_index(\n",
    "    \"BioSample.Accession\").to_dict()[\"Collection.Date.Formatted\"]\n",
    "\n",
    "latin_sample_country_dict=latin_meta[['BioSample.Accession',\"country\"]].set_index(\n",
    "    \"BioSample.Accession\").to_dict()[\"country\"]"
   ]
  },
  {
   "cell_type": "markdown",
   "metadata": {},
   "source": [
    "# All DATED Leptospira METADATA Version 3\n"
   ]
  },
  {
   "cell_type": "code",
   "execution_count": 6,
   "metadata": {},
   "outputs": [],
   "source": [
    "allDated_meta = pd.read_csv(Dated_path + \"all_lepto_dated_figAnn.tsv\",sep=\"\\t\",keep_default_na=False)\n",
    "\n",
    "sample_host_dict = allDated_meta[['BioSample.Accession',\"Host.Name.y\"]].set_index(\n",
    "    \"BioSample.Accession\").to_dict()[\"Host.Name.y\"]\n",
    "\n",
    "for biosample in sample_host_dict:\n",
    "    sample_host_dict[biosample] = sample_host_dict[biosample].replace(\" \",\"_\")\n",
    "\n",
    "sample_date_dict= allDated_meta[['BioSample.Accession',\"Year\"]].set_index(\n",
    "    \"BioSample.Accession\").to_dict()[\"Year\"]\n",
    "\n",
    "sample_country_dict=allDated_meta[['BioSample.Accession',\"country\"]].set_index(\n",
    "    \"BioSample.Accession\").to_dict()[\"country\"]\n"
   ]
  },
  {
   "cell_type": "code",
   "execution_count": 12,
   "metadata": {},
   "outputs": [
    {
     "data": {
      "text/plain": [
       "Tree(rooted=False, weight=1.0)"
      ]
     },
     "execution_count": 12,
     "metadata": {},
     "output_type": "execute_result"
    }
   ],
   "source": [
    "tree_allDated"
   ]
  },
  {
   "cell_type": "markdown",
   "metadata": {},
   "source": [
    "# All Dated Leptospira Version 3 Tree\n",
    "\n"
   ]
  },
  {
   "cell_type": "code",
   "execution_count": 13,
   "metadata": {},
   "outputs": [
    {
     "data": {
      "text/plain": [
       "1"
      ]
     },
     "execution_count": 13,
     "metadata": {},
     "output_type": "execute_result"
    }
   ],
   "source": [
    "tree_allDated = Phylo.read(tree_path + \"/all_interrogans_dated.recombFreeSnpsAtcg.treefile\",\"newick\")\n",
    "\n",
    "for taxa in sample_date_dict:\n",
    "    newname=taxa + \"/\" + str(sample_date_dict[taxa])+ \"/\"  + sample_host_dict[taxa]+ \"/\"  + sample_country_dict[taxa]\n",
    "    if tree_allDated.find_any(str(taxa)) != None:\n",
    "            tree_allDated.find_any(str(taxa)).name = newname\n",
    "    elif tree_allDated.find_any(str(taxa)) != None:\n",
    "            tree_allDated.find_any(str(taxa)).name = newname\n",
    "\n",
    "Phylo.write(tree_allDated, tree_path + \"/renamed_all_interrogans_dated.recombFreeSnpsAtcg.treefile\",\"newick\")"
   ]
  },
  {
   "cell_type": "markdown",
   "metadata": {},
   "source": [
    "### Latin Tree"
   ]
  },
  {
   "cell_type": "code",
   "execution_count": 198,
   "metadata": {},
   "outputs": [],
   "source": [
    "tree_latin = Phylo.read(tree_path + \"/global_iqtree/iqtree_latin.treefile\",\"newick\")\n",
    "\n",
    "for taxa in latin_sample_date_dict:\n",
    "    newname=taxa + \"/\" + latin_sample_date_dict[taxa] + \"/\"  + latin_sample_host_dict[taxa]+ \"/\"  + latin_sample_country_dict[taxa]\n",
    "    tree_latin.find_any(taxa).name = newname\n",
    "\n"
   ]
  },
  {
   "cell_type": "code",
   "execution_count": 199,
   "metadata": {},
   "outputs": [
    {
     "data": {
      "text/plain": [
       "1"
      ]
     },
     "execution_count": 199,
     "metadata": {},
     "output_type": "execute_result"
    }
   ],
   "source": [
    "Phylo.write(tree_latin, tree_path + \"/global_iqtree/renamed_latin_iqtree.treefile\",\"newick\")"
   ]
  },
  {
   "cell_type": "code",
   "execution_count": 13,
   "metadata": {},
   "outputs": [],
   "source": [
    "tree_global_binary = Phylo.read(tree_path + \"/global_iqtree/binary_presence_absence_global.nwk\",\"newick\")\n",
    "\n",
    "for taxa in sample_date_dict:\n",
    "    newname=taxa + \"/\" + str(sample_date_dict[taxa])+ \"/\"  + sample_host_dict[taxa]+ \"/\"  + sample_country_dict[taxa]\n",
    "    tree_global_binary.find_any(taxa).name = newname\n"
   ]
  },
  {
   "cell_type": "code",
   "execution_count": 14,
   "metadata": {},
   "outputs": [
    {
     "data": {
      "text/plain": [
       "1"
      ]
     },
     "execution_count": 14,
     "metadata": {},
     "output_type": "execute_result"
    }
   ],
   "source": [
    "Phylo.write(tree_global_binary, tree_path + \"/global_iqtree/renamed_iqtree_global_binary.nwk\",\"newick\")"
   ]
  },
  {
   "cell_type": "code",
   "execution_count": 10,
   "metadata": {},
   "outputs": [],
   "source": [
    "tree_ppk_nodup = Phylo.read(tree_path + \"/global_iqtree/ppk_iqtree_nodup.treefile\",\"newick\")\n",
    "\n",
    "for taxa in sample_date_dict:\n",
    "    newname=taxa + \"/\" + str(sample_date_dict[taxa])+ \"/\"  + sample_host_dict[taxa]+ \"/\"  + sample_country_dict[taxa]\n",
    "    if tree_ppk_nodup.find_any(taxa) != None:\n",
    "        tree_ppk_nodup.find_any(taxa).name = newname\n"
   ]
  },
  {
   "cell_type": "code",
   "execution_count": 12,
   "metadata": {},
   "outputs": [
    {
     "data": {
      "text/plain": [
       "1"
      ]
     },
     "execution_count": 12,
     "metadata": {},
     "output_type": "execute_result"
    }
   ],
   "source": [
    "Phylo.write(tree_ppk_nodup, tree_path + \"/global_iqtree/renamed_tree_ppk_nodup.treefile\",\"newick\")"
   ]
  },
  {
   "cell_type": "code",
   "execution_count": 5,
   "metadata": {},
   "outputs": [],
   "source": [
    "tree_interrogans = Phylo.read(tree_path + \"/global_iqtree/iqtree_interrogans.treefile\",\"newick\")\n",
    "\n",
    "for taxa in sample_date_dict:\n",
    "    newname=taxa + \"/\" + str(sample_date_dict[taxa])+ \"/\"  + sample_host_dict[taxa]+ \"/\"  + sample_country_dict[taxa]\n",
    "    if tree_interrogans.find_any(taxa) != None:\n",
    "        tree_interrogans.find_any(taxa).name = newname"
   ]
  },
  {
   "cell_type": "code",
   "execution_count": 6,
   "metadata": {},
   "outputs": [
    {
     "data": {
      "text/plain": [
       "1"
      ]
     },
     "execution_count": 6,
     "metadata": {},
     "output_type": "execute_result"
    }
   ],
   "source": [
    "Phylo.write(tree_interrogans, tree_path + \"/global_iqtree/rename_interrogans.treefile\",\"newick\")"
   ]
  },
  {
   "cell_type": "code",
   "execution_count": 9,
   "metadata": {},
   "outputs": [],
   "source": [
    "tree_interrogans_aa = Phylo.read(tree_path + \"/global_iqtree/iqtree_interrogans_aa.treefile\",\"newick\")\n",
    "\n",
    "for taxa in sample_date_dict:\n",
    "    newname=taxa + \"/\" + str(sample_date_dict[taxa])+ \"/\"  + sample_host_dict[taxa]+ \"/\"  + sample_country_dict[taxa]\n",
    "    if tree_interrogans_aa.find_any(taxa) != None:\n",
    "        tree_interrogans_aa.find_any(taxa).name = newname"
   ]
  },
  {
   "cell_type": "code",
   "execution_count": 10,
   "metadata": {},
   "outputs": [
    {
     "data": {
      "text/plain": [
       "1"
      ]
     },
     "execution_count": 10,
     "metadata": {},
     "output_type": "execute_result"
    }
   ],
   "source": [
    "Phylo.write(tree_interrogans_aa, tree_path + \"/global_iqtree/rename_interrogans_aa.treefile\",\"newick\")"
   ]
  },
  {
   "cell_type": "code",
   "execution_count": 24,
   "metadata": {},
   "outputs": [],
   "source": [
    "gubbins_interrogans = Phylo.read(tree_path + \"/global_iqtree/dated_interrogans_gubbins.node_labelled.final_tree.tre\",\"newick\")\n",
    "\n",
    "for taxa in sample_date_dict:\n",
    "    newname=taxa + \"/\" + str(sample_date_dict[taxa])+ \"/\"  + sample_host_dict[taxa]+ \"/\"  + sample_country_dict[taxa]\n",
    "    if gubbins_interrogans.find_any(str(taxa + \".fna\")) != None:\n",
    "            gubbins_interrogans.find_any(str(taxa + \".fna\")).name = newname\n",
    "    elif gubbins_interrogans.find_any(str(taxa + \".fasta\")) != None:\n",
    "            gubbins_interrogans.find_any(str(taxa + \".fasta\")).name = newname"
   ]
  },
  {
   "cell_type": "code",
   "execution_count": 26,
   "metadata": {},
   "outputs": [
    {
     "data": {
      "text/plain": [
       "1"
      ]
     },
     "execution_count": 26,
     "metadata": {},
     "output_type": "execute_result"
    }
   ],
   "source": [
    "Phylo.write(gubbins_interrogans, tree_path + \"/global_iqtree/rename_gubbins_interrogans.tre\",\"newick\")"
   ]
  },
  {
   "cell_type": "code",
   "execution_count": 25,
   "metadata": {},
   "outputs": [
    {
     "name": "stdout",
     "output_type": "stream",
     "text": [
      "Tree(rooted=False, weight=1.0)\n",
      "    Clade(branch_length=0.0, name='internal_ROOT')\n",
      "        Clade(branch_length=1668.371094, name='internal_156')\n",
      "            Clade(branch_length=3160.011963, name='internal_157')\n",
      "                Clade(branch_length=16495.310547, name='SAMN02949568/1960/Homo_sapiens/China')\n",
      "                Clade(branch_length=13351.629883, name='internal_158')\n",
      "                    Clade(branch_length=93.86235, name='internal_159')\n",
      "                        Clade(branch_length=110.884903, name='SAMN02947410/1981/Homo_sapiens/China')\n",
      "                        Clade(branch_length=160.520645, name='SAMN02949533/1969/Homo_sapiens/China')\n",
      "                    Clade(branch_length=215.157867, name='internal_160')\n",
      "                        Clade(branch_length=0.178368, name='internal_161')\n",
      "                            Clade(branch_length=5.822899, name='internal_162')\n",
      "                                Clade(branch_length=4.410939, name='internal_163')\n",
      "                                    Clade(branch_length=738.997437, name='SAMN05195243/2005/Canis_lupus_familiaris/Brazil')\n",
      "                                    Clade(branch_length=177.679153, name='SAMN04009303/2013/Cavia_aperea/Brazil')\n",
      "                                Clade(branch_length=39.738396, name='SAMN12567526/2015/Homo_sapiens/Brazil')\n",
      "                            Clade(branch_length=4.422658, name='internal_164')\n",
      "                                Clade(branch_length=13.28983, name='internal_165')\n",
      "                                    Clade(branch_length=10.250072, name='internal_166')\n",
      "                                        Clade(branch_length=12.849169, name='internal_167')\n",
      "                                            Clade(branch_length=15.545737, name='internal_168')\n",
      "                                                Clade(branch_length=14.098798, name='SAMN11389094/2017/Rattus_norvegicus/Saint Kitts and Nevis')\n",
      "                                                Clade(branch_length=0.178368, name='internal_169')\n",
      "                                                    Clade(branch_length=1.539459, name='internal_170')\n",
      "                                                        Clade(branch_length=42.798237, name='internal_171')\n",
      "                                                            Clade(branch_length=42.836594, name='SAMN11389088/2017/Rattus_norvegicus/Saint Kitts and Nevis')\n",
      "                                                            Clade(branch_length=39.988411, name='SAMN11389090/2017/Rattus_norvegicus/Saint Kitts and Nevis')\n",
      "                                                        Clade(branch_length=5.124875, name='internal_172')\n",
      "                                                            Clade(branch_length=13.746973, name='SAMN11389089/2017/Rattus_norvegicus/Saint Kitts and Nevis')\n",
      "                                                            Clade(branch_length=8.734994, name='SAMN11389093/2017/Rattus_norvegicus/Saint Kitts and Nevis')\n",
      "                                                    Clade(branch_length=12.476081, name='SAMN11389096/2017/Rattus_norvegicus/Saint Kitts and Nevis')\n",
      "                                            Clade(branch_length=17.586027, name='internal_173')\n",
      "                                                Clade(branch_length=8.316297, name='SAMN11389087/2017/Rattus_norvegicus/Saint Kitts and Nevis')\n",
      "                                                Clade(branch_length=1.31925, name='internal_174')\n",
      "                                                    Clade(branch_length=7.491827, name='SAMN11389095/2017/Rattus_norvegicus/Saint Kitts and Nevis')\n",
      "                                                    Clade(branch_length=2.653165, name='SAMN11389097/2017/Rattus_norvegicus/Saint Kitts and Nevis')\n",
      "                                        Clade(branch_length=19.981915, name='SAMN11389086/2017/Rattus_norvegicus/Saint Kitts and Nevis')\n",
      "                                    Clade(branch_length=1.188246, name='internal_175')\n",
      "                                        Clade(branch_length=37.200443, name='SAMN13822336/2017/Canis_lupus_familiaris/Saint Kitts and ...')\n",
      "                                        Clade(branch_length=8.301557, name='internal_176')\n",
      "                                            Clade(branch_length=6.232405, name='SAMN09521106/2017/Urva_auropunctata/Saint Kitts and Nevis')\n",
      "                                            Clade(branch_length=12.71708, name='SAMN09521107/2017/Urva_auropunctata/Saint Kitts and Nevis')\n",
      "                                Clade(branch_length=8.904577, name='internal_177')\n",
      "                                    Clade(branch_length=1.196938, name='internal_178')\n",
      "                                        Clade(branch_length=6.212042, name='internal_179')\n",
      "                                            Clade(branch_length=9.940293, name='internal_180')\n",
      "                                                Clade(branch_length=16.990469, name='SAMN03997006/2011/Homo_sapiens/Brazil')\n",
      "                                                Clade(branch_length=2.515667, name='internal_181')\n",
      "                                                    Clade(branch_length=3.812965, name='SAMN04002971/2012/Homo_sapiens/Brazil')\n",
      "                                                    Clade(branch_length=1.285999, name='internal_182')\n",
      "                                                        Clade(branch_length=11.251701, name='internal_183')\n",
      "                                                            Clade(branch_length=10.211603, name='internal_184')\n",
      "                                                                Clade(branch_length=55.027851, name='SAMN02603847/1996/Homo_sapiens/Unknown')\n",
      "                                                                Clade(branch_length=20.044401, name='SAMN04158538/1996/Homo_sapiens/Brazil')\n",
      "                                                            Clade(branch_length=13.695799, name='SAMN04875540/1996/Homo_sapiens/Brazil')\n",
      "                                                        Clade(branch_length=6.385405, name='internal_185')\n",
      "                                                            Clade(branch_length=267.3638, name='SAMN04009327/2012/Hydrochoerus_hydrochaeris/Brazil')\n",
      "                                                            Clade(branch_length=14.073771, name='SAMN03996952/2010/Homo_sapiens/Brazil')\n",
      "                                            Clade(branch_length=8.187899, name='internal_186')\n",
      "                                                Clade(branch_length=9.577257, name='SAMN03996887/2011/Homo_sapiens/Brazil')\n",
      "                                                Clade(branch_length=1.267678, name='internal_187')\n",
      "                                                    Clade(branch_length=6.35509, name='SAMN03998757/2012/Homo_sapiens/Brazil')\n",
      "                                                    Clade(branch_length=1.268563, name='internal_188')\n",
      "                                                        Clade(branch_length=12.703771, name='SAMN03997015/2011/Homo_sapiens/Brazil')\n",
      "                                                        Clade(branch_length=2.543252, name='SAMN03998754/2011/Homo_sapiens/Brazil')\n",
      "                                        Clade(branch_length=2.759306, name='internal_189')\n",
      "                                            Clade(branch_length=37.785793, name='internal_190')\n",
      "                                                Clade(branch_length=77.192635, name='SAMN02947972/1938/Homo_sapiens/Denmark')\n",
      "                                                Clade(branch_length=30.49334, name='SAMN04145571/1938/Homo_sapiens/Denmark')\n",
      "                                            Clade(branch_length=1.512307, name='internal_191')\n",
      "                                                Clade(branch_length=0.178368, name='internal_192')\n",
      "                                                    Clade(branch_length=3.804033, name='internal_193')\n",
      "                                                        Clade(branch_length=2.536573, name='internal_194')\n",
      "                                                            Clade(branch_length=11.439718, name='SAMN03944914/2012/Homo_sapiens/Brazil')\n",
      "                                                            Clade(branch_length=16.531137, name='SAMN04090071/2007/Homo_sapiens/France')\n",
      "                                                        Clade(branch_length=13.994865, name='SAMN04102140/1998/Rattus_norvegicus/Brazil')\n",
      "                                                    Clade(branch_length=0.178368, name='internal_195')\n",
      "                                                        Clade(branch_length=3.712976, name='internal_196')\n",
      "                                                            Clade(branch_length=1.729625, name='internal_197')\n",
      "                                                                Clade(branch_length=12.70268, name='SAMN04145899/2008/Homo_sapiens/France')\n",
      "                                                                Clade(branch_length=7.906028, name='internal_198')\n",
      "                                                                    Clade(branch_length=8.923763, name='SAMN04145570/1992/NA/Brazil')\n",
      "                                                                    Clade(branch_length=9.263058, name='internal_199')\n",
      "                                                                        Clade(branch_length=9.253831, name='SAMN04145962/2007/Homo_sapiens/Guadeloupe')\n",
      "                                                                        Clade(branch_length=0.178368, name='internal_200')\n",
      "                                                                            Clade(branch_length=8.891787, name='SAMN04090017/2002/Homo_sapiens/Slovenia')\n",
      "                                                                            Clade(branch_length=7.418595, name='internal_201')\n",
      "                                                                                Clade(branch_length=0.178368, name='SAMN04009367/2010/Homo_sapiens/Guadeloupe')\n",
      "                                                                                Clade(branch_length=8.89797, name='SAMN04145914/2009/Homo_sapiens/French Polynesia')\n",
      "                                                            Clade(branch_length=1.328409, name='internal_202')\n",
      "                                                                Clade(branch_length=12.709664, name='SAMN04090075/2008/Homo_sapiens/Guadeloupe')\n",
      "                                                                Clade(branch_length=5.317861, name='internal_203')\n",
      "                                                                    Clade(branch_length=4.122086, name='internal_204')\n",
      "                                                                        Clade(branch_length=15.954703, name='SAMN04145567/1992/NA/Brazil')\n",
      "                                                                        Clade(branch_length=0.178368, name='internal_205')\n",
      "                                                                            Clade(branch_length=29.243341, name='SAMN04102160/1998/Rattus_norvegicus/Brazil')\n",
      "                                                                            Clade(branch_length=17.339323, name='SAMN03998756/2012/Homo_sapiens/Brazil')\n",
      "                                                                    Clade(branch_length=0.178368, name='internal_206')\n",
      "                                                                        Clade(branch_length=11.37939, name='SAMN04102260/1998/Rattus_norvegicus/Brazil')\n",
      "                                                                        Clade(branch_length=12.973029, name='internal_207')\n",
      "                                                                            Clade(branch_length=5.170627, name='SAMN03996955/2010/Homo_sapiens/Brazil')\n",
      "                                                                            Clade(branch_length=8.94796, name='SAMN04116739/1998/Rattus_norvegicus/Brazil')\n",
      "                                                        Clade(branch_length=9.954291, name='SAMN04145947/2010/Homo_sapiens/French Polynesia')\n",
      "                                                Clade(branch_length=10.822047, name='internal_208')\n",
      "                                                    Clade(branch_length=3.810992, name='SAMN04116740/2004/Rattus_norvegicus/Colombia')\n",
      "                                                    Clade(branch_length=8.12276, name='SAMN04116742/2004/Rattus_norvegicus/Colombia')\n",
      "                                    Clade(branch_length=6.710052, name='internal_209')\n",
      "                                        Clade(branch_length=33.507309, name='SAMN04158468/1915/Cavia_porcellus/Japan')\n",
      "                                        Clade(branch_length=24.344809, name='SAMN04145963/1990/Homo_sapiens/Japan')\n",
      "                        Clade(branch_length=3.00178, name='internal_210')\n",
      "                            Clade(branch_length=924.594421, name='internal_211')\n",
      "                                Clade(branch_length=24498.527344, name='SAMN04009307/2013/Canis_lupus_familiaris/Brazil')\n",
      "                                Clade(branch_length=4400.678711, name='SAMN05195242/2013/Homo_sapiens/Brazil')\n",
      "                            Clade(branch_length=35.721394, name='SAMN12567456/2016/Homo_sapiens/Brazil')\n",
      "            Clade(branch_length=1237.913208, name='internal_212')\n",
      "                Clade(branch_length=4633.978516, name='internal_213')\n",
      "                    Clade(branch_length=2993.71582, name='internal_214')\n",
      "                        Clade(branch_length=10790.482422, name='SAMN02949576/2005/Anura/China')\n",
      "                        Clade(branch_length=8147.410645, name='internal_215')\n",
      "                            Clade(branch_length=1829.234253, name='SAMN01036700/2010/Homo_sapiens/Mayotte')\n",
      "                            Clade(branch_length=458.777771, name='SAMN02949524/1955/Homo_sapiens/China')\n",
      "                    Clade(branch_length=11879.671875, name='SAMN02949544/1964/Homo_sapiens/China')\n",
      "                Clade(branch_length=1404.123291, name='internal_216')\n",
      "                    Clade(branch_length=2053.207764, name='internal_217')\n",
      "                        Clade(branch_length=2691.879639, name='internal_218')\n",
      "                            Clade(branch_length=9925.34375, name='SAMN02949511/1936/Homo_sapiens/Indonesia')\n",
      "                            Clade(branch_length=10544.59082, name='internal_219')\n",
      "                                Clade(branch_length=148.334, name='SAMN06298621/2012/Ovis_aries/Brazil')\n",
      "                                Clade(branch_length=15.417267, name='internal_220')\n",
      "                                    Clade(branch_length=405.726501, name='SAMN04102139/1970/Homo_sapiens/Indonesia')\n",
      "                                    Clade(branch_length=462.782104, name='SAMN12588099/2016/Bos_taurus/Brazil')\n",
      "                        Clade(branch_length=11689.416016, name='SAMN02949517/1937/Homo_sapiens/Indonesia')\n",
      "                    Clade(branch_length=2165.479492, name='internal_221')\n",
      "                        Clade(branch_length=11897.799805, name='SAMN02949514/1929/Homo_sapiens/Indonesia')\n",
      "                        Clade(branch_length=1571.272339, name='internal_222')\n",
      "                            Clade(branch_length=12502.214844, name='SAMN02949513/1937/Homo_sapiens/Indonesia')\n",
      "                            Clade(branch_length=2552.256836, name='internal_223')\n",
      "                                Clade(branch_length=10481.642578, name='SAMN02949518/1953/Homo_sapiens/Malaysia')\n",
      "                                Clade(branch_length=9899.55957, name='internal_224')\n",
      "                                    Clade(branch_length=65.08979, name='internal_225')\n",
      "                                        Clade(branch_length=19.781708, name='internal_226')\n",
      "                                            Clade(branch_length=7.888373, name='SAMN02949574/2007/Rattus_flavipectus/China')\n",
      "                                            Clade(branch_length=9.43222, name='SAMN02949573/2009/Rattus_flavipectus/China')\n",
      "                                        Clade(branch_length=46.163864, name='SAMN02949575/2007/Apodemus_agrarius/China')\n",
      "                                    Clade(branch_length=48.278835, name='internal_227')\n",
      "                                        Clade(branch_length=25.405331, name='SAMN02949560/1981/Homo_sapiens/China')\n",
      "                                        Clade(branch_length=16.507835, name='internal_228')\n",
      "                                            Clade(branch_length=38.217258, name='SAMN02949559/1979/Apodemus_agrarius/China')\n",
      "                                            Clade(branch_length=9.073828, name='internal_229')\n",
      "                                                Clade(branch_length=34.521828, name='SAMN02949536/1966/Homo_sapiens/China')\n",
      "                                                Clade(branch_length=2.57943, name='internal_230')\n",
      "                                                    Clade(branch_length=36.992516, name='SAMN02949557/1970/Homo_sapiens/China')\n",
      "                                                    Clade(branch_length=2.601578, name='internal_231')\n",
      "                                                        Clade(branch_length=36.976395, name='SAMN02949521/1958/Homo_sapiens/China')\n",
      "                                                        Clade(branch_length=11.629776, name='internal_232')\n",
      "                                                            Clade(branch_length=2.583572, name='Reference')\n",
      "                                                            Clade(branch_length=2.466466, name='SAMN02949563/1958/Homo_sapiens/China')\n",
      "        Clade(branch_length=0.0, name='internal_233')\n",
      "            Clade(branch_length=1938.610718, name='internal_234')\n",
      "                Clade(branch_length=3755.320557, name='internal_235')\n",
      "                    Clade(branch_length=1961.999756, name='internal_236')\n",
      "                        Clade(branch_length=8376.817383, name='internal_237')\n",
      "                            Clade(branch_length=7702.500977, name='SAMN02949548/1959/Homo_sapiens/China')\n",
      "                            Clade(branch_length=6370.607422, name='SAMN02949570/1970/Homo_sapiens/China')\n",
      "                        Clade(branch_length=15330.875, name='SAMN02949535/1960/Homo_sapiens/China')\n",
      "                    Clade(branch_length=4702.678223, name='internal_238')\n",
      "                        Clade(branch_length=2933.482666, name='internal_239')\n",
      "                            Clade(branch_length=12504.817383, name='SAMN07314877/2014/Canis_lupus_familiaris/Thailand')\n",
      "                            Clade(branch_length=9938.087891, name='SAMN07313955/2014/Canis_lupus_familiaris/Thailand')\n",
      "                        Clade(branch_length=2133.091797, name='internal_240')\n",
      "                            Clade(branch_length=12259.089844, name='SAMN02949545/1965/Homo_sapiens/China')\n",
      "                            Clade(branch_length=2618.506592, name='internal_241')\n",
      "                                Clade(branch_length=10932.642578, name='SAMN02949540/1964/Homo_sapiens/China')\n",
      "                                Clade(branch_length=2807.5896, name='internal_242')\n",
      "                                    Clade(branch_length=11265.857422, name='internal_243')\n",
      "                                        Clade(branch_length=0.178368, name='SAMN02949547/1969/Homo_sapiens/China')\n",
      "                                        Clade(branch_length=1.521759, name='SAMN02949546/1962/Homo_sapiens/China')\n",
      "                                    Clade(branch_length=8272.68457, name='internal_244')\n",
      "                                        Clade(branch_length=27.808086, name='SAMN02949562/2005/Apodemus_chevrieri/China')\n",
      "                                        Clade(branch_length=70.621178, name='SAMN02949549/1972/Homo_sapiens/China')\n",
      "                Clade(branch_length=2802.17334, name='internal_245')\n",
      "                    Clade(branch_length=2082.475586, name='internal_246')\n",
      "                        Clade(branch_length=20646.564453, name='SAMN02949556/1969/Homo_sapiens/China')\n",
      "                        Clade(branch_length=4497.105469, name='internal_247')\n",
      "                            Clade(branch_length=16641.083984, name='SAMN02949541/1964/Homo_sapiens/China')\n",
      "                            Clade(branch_length=14524.569336, name='SAMN02949542/1965/Homo_sapiens/China')\n",
      "                    Clade(branch_length=3427.395996, name='internal_248')\n",
      "                        Clade(branch_length=5710.555176, name='internal_249')\n",
      "                            Clade(branch_length=15802.080078, name='internal_250')\n",
      "                                Clade(branch_length=34.2141, name='SAMN02949564/1954/Homo_sapiens/China')\n",
      "                                Clade(branch_length=26.109854, name='SAMN02949526/1954/Homo_sapiens/China')\n",
      "                            Clade(branch_length=12101.632812, name='internal_251')\n",
      "                                Clade(branch_length=30.20787, name='internal_252')\n",
      "                                    Clade(branch_length=35.911354, name='SAMN02949529/1954/Homo_sapiens/China')\n",
      "                                    Clade(branch_length=44.104397, name='SAMN02949566/1954/Homo_sapiens/China')\n",
      "                                Clade(branch_length=29.524904, name='SAMN02949577/2006/Homo_sapiens/China')\n",
      "                        Clade(branch_length=2445.926514, name='internal_253')\n",
      "                            Clade(branch_length=17010.048828, name='internal_254')\n",
      "                                Clade(branch_length=13.853411, name='SAMN02949554/1967/Homo_sapiens/China')\n",
      "                                Clade(branch_length=15.366196, name='SAMN02949558/1980/Microtus_fortis/China')\n",
      "                            Clade(branch_length=3928.183838, name='internal_255')\n",
      "                                Clade(branch_length=18050.996094, name='SAMN02949537/1964/Homo_sapiens/China')\n",
      "                                Clade(branch_length=4486.640137, name='internal_256')\n",
      "                                    Clade(branch_length=4674.716309, name='internal_257')\n",
      "                                        Clade(branch_length=15297.337891, name='SAMN02949579/2006/Rattus_flavipectus/China')\n",
      "                                        Clade(branch_length=8860.663086, name='internal_258')\n",
      "                                            Clade(branch_length=8713.759766, name='internal_259')\n",
      "                                                Clade(branch_length=4556.712891, name='SAMN02949571/1971/Homo_sapiens/China')\n",
      "                                                Clade(branch_length=5155.676758, name='SAMN02949538/1965/Homo_sapiens/China')\n",
      "                                            Clade(branch_length=7165.265625, name='internal_260')\n",
      "                                                Clade(branch_length=8276.22168, name='SAMN02436495/2010/Homo_sapiens/Thailand')\n",
      "                                                Clade(branch_length=2052.55127, name='internal_261')\n",
      "                                                    Clade(branch_length=1016.900024, name='internal_262')\n",
      "                                                        Clade(branch_length=4150.818848, name='internal_263')\n",
      "                                                            Clade(branch_length=115.594193, name='SAMN02949523/1954/Homo_sapiens/China')\n",
      "                                                            Clade(branch_length=79.324356, name='internal_264')\n",
      "                                                                Clade(branch_length=31.685757, name='internal_265')\n",
      "                                                                    Clade(branch_length=16.27733, name='SAMN02949572/1960/Homo_sapiens/China')\n",
      "                                                                    Clade(branch_length=10.060142, name='SAMN12871448/1950/Homo_sapiens/China')\n",
      "                                                                Clade(branch_length=6.532978, name='internal_266')\n",
      "                                                                    Clade(branch_length=19.423872, name='internal_267')\n",
      "                                                                        Clade(branch_length=53.249825, name='SAMN06290125/2012/Homo_sapiens/Argentina')\n",
      "                                                                        Clade(branch_length=7.079694, name='internal_268')\n",
      "                                                                            Clade(branch_length=9.638616, name='internal_269')\n",
      "                                                                                Clade(branch_length=69.995743, name='SAMN03783263/2000/Sus_scrofa/Brazil')\n",
      "                                                                                Clade(branch_length=44.998367, name='SAMN03783264/2000/Sus_scrofa/Brazil')\n",
      "                                                                            Clade(branch_length=389.686493, name='internal_270')\n",
      "                                                                                Clade(branch_length=13140.550781, name='SAMN06434273/2016/Rattus_norvegicus/Brazil')\n",
      "                                                                                Clade(branch_length=4075.624512, name='SAMN06434252/2016/Canis_lupus_familiaris/Brazil')\n",
      "                                                                    Clade(branch_length=31.666245, name='internal_271')\n",
      "                                                                        Clade(branch_length=43.646519, name='SAMN02728107/1958/Homo_sapiens/China')\n",
      "                                                                        Clade(branch_length=0.178368, name='internal_272')\n",
      "                                                                            Clade(branch_length=36.415573, name='SAMN12871420/2004/NA/China')\n",
      "                                                                            Clade(branch_length=54.11544, name='SAMN02949578/2006/Canis_lupus_familiaris/China')\n",
      "                                                        Clade(branch_length=984.972351, name='internal_273')\n",
      "                                                            Clade(branch_length=675.213989, name='internal_274')\n",
      "                                                                Clade(branch_length=3236.541016, name='SAMN02949561/2000/Homo_sapiens/China')\n",
      "                                                                Clade(branch_length=750.428162, name='internal_275')\n",
      "                                                                    Clade(branch_length=2085.420166, name='SAMN02949516/1918/Homo_sapiens/Japan')\n",
      "                                                                    Clade(branch_length=2660.512451, name='SAMN02949569/1960/Homo_sapiens/China')\n",
      "                                                            Clade(branch_length=1889.450195, name='internal_276')\n",
      "                                                                Clade(branch_length=1619.224365, name='SAMN02949539/1970/Homo_sapiens/China')\n",
      "                                                                Clade(branch_length=2105.532959, name='SAMN02949567/2005/Apodemus_agrarius/China')\n",
      "                                                    Clade(branch_length=963.429749, name='internal_277')\n",
      "                                                        Clade(branch_length=1048.231567, name='internal_278')\n",
      "                                                            Clade(branch_length=8619.37793, name='SAMN02928167/2008/Homo_sapiens/Sri Lanka')\n",
      "                                                            Clade(branch_length=1616.479004, name='internal_279')\n",
      "                                                                Clade(branch_length=1833.908569, name='internal_280')\n",
      "                                                                    Clade(branch_length=31.987261, name='SAMN02949565/1958/Homo_sapiens/China')\n",
      "                                                                    Clade(branch_length=33.499752, name='internal_281')\n",
      "                                                                        Clade(branch_length=3.689709, name='SAMN02949527/1958/Homo_sapiens/China')\n",
      "                                                                        Clade(branch_length=5.521741, name='SAMN02949543/1960/Rattus/China')\n",
      "                                                                Clade(branch_length=2066.380859, name='internal_282')\n",
      "                                                                    Clade(branch_length=125.1847, name='SAMEA6635859/2007/Sus_scrofa/Italy')\n",
      "                                                                    Clade(branch_length=45.492493, name='internal_283')\n",
      "                                                                        Clade(branch_length=40.222351, name='internal_284')\n",
      "                                                                            Clade(branch_length=68.854401, name='SAMN06233881/2004/Sus_scrofa/Brazil')\n",
      "                                                                            Clade(branch_length=18.730516, name='internal_285')\n",
      "                                                                                Clade(branch_length=53.228966, name='SAMN04432834/2007/Bos_taurus/Argentina')\n",
      "                                                                                Clade(branch_length=54.545673, name='internal_286')\n",
      "                                                                                    Clade(branch_length=34.342896, name='SAMN11774874/2015/Bos_taurus/Uruguay')\n",
      "                                                                                    Clade(branch_length=20.813848, name='internal_287')\n",
      "                                                                                        Clade(branch_length=26.002548, name='SAMN11774877/2015/Bos_taurus/Uruguay')\n",
      "                                                                                        Clade(branch_length=3.209136, name='internal_288')\n",
      "                                                                                            Clade(branch_length=24.13578, name='SAMN11774876/2015/Bos_taurus/Uruguay')\n",
      "                                                                                            Clade(branch_length=7.649462, name='SAMN11774875/2015/Bos_taurus/Uruguay')\n",
      "                                                                        Clade(branch_length=58.714428, name='internal_289')\n",
      "                                                                            Clade(branch_length=27.838951, name='SAMN04216083/1994/Sus_scrofa/Colombia')\n",
      "                                                                            Clade(branch_length=84.960632, name='SAMN02949515/1936/Homo_sapiens/Australia')\n",
      "                                                        Clade(branch_length=2981.802734, name='internal_290')\n",
      "                                                            Clade(branch_length=1597.536255, name='internal_291')\n",
      "                                                                Clade(branch_length=73.075882, name='SAMN02947765/2000/Bos_taurus/China')\n",
      "                                                                Clade(branch_length=51.187382, name='SAMN02949530/1958/Homo_sapiens/China')\n",
      "                                                            Clade(branch_length=1387.028564, name='SAMN02728108/1958/Homo_sapiens/China')\n",
      "                                    Clade(branch_length=15764.852539, name='SAMN02949532/1958/Homo_sapiens/China')\n",
      "            Clade(branch_length=1120.757446, name='internal_292')\n",
      "                Clade(branch_length=1558.172974, name='internal_293')\n",
      "                    Clade(branch_length=3739.772217, name='internal_294')\n",
      "                        Clade(branch_length=9339.757812, name='internal_295')\n",
      "                            Clade(branch_length=43917.539062, name='SAMN02949520/1958/Perameles_nasuta/Australia')\n",
      "                            Clade(branch_length=5695.493652, name='SAMN06298624/2013/Sus_scrofa/Brazil')\n",
      "                        Clade(branch_length=33749.296875, name='internal_296')\n",
      "                            Clade(branch_length=17289.972656, name='SAMN02436490/2011/Homo_sapiens/Australia')\n",
      "                            Clade(branch_length=16597.248047, name='internal_297')\n",
      "                                Clade(branch_length=75.822968, name='SAMN03780437/2012/Mus_musculus/Japan')\n",
      "                                Clade(branch_length=26.022532, name='SAMN03780438/2012/Mus_musculus/Japan')\n",
      "                    Clade(branch_length=3327.976807, name='internal_298')\n",
      "                        Clade(branch_length=14599.638672, name='SAMN02949512/1953/Homo_sapiens/Malaysia')\n",
      "                        Clade(branch_length=18146.648438, name='internal_299')\n",
      "                            Clade(branch_length=28.001999, name='SAMN13679794/2017/Canis_lupus_familiaris/Thailand')\n",
      "                            Clade(branch_length=11.283805, name='SAMN04555632/2007/Rodent/Malaysia')\n",
      "                Clade(branch_length=793.077759, name='internal_300')\n",
      "                    Clade(branch_length=11773.131836, name='internal_301')\n",
      "                        Clade(branch_length=11220.321289, name='SAMN11289421/2017/Homo_sapiens/Sri Lanka')\n",
      "                        Clade(branch_length=16182.060547, name='internal_302')\n",
      "                            Clade(branch_length=3584.0625, name='SAMN11289420/2017/Homo_sapiens/Sri Lanka')\n",
      "                            Clade(branch_length=3723.9021, name='SAMN11289419/2017/Homo_sapiens/Sri Lanka')\n",
      "                    Clade(branch_length=1408.99646, name='internal_303')\n",
      "                        Clade(branch_length=17165.939453, name='internal_304')\n",
      "                            Clade(branch_length=74.305656, name='internal_305')\n",
      "                                Clade(branch_length=100.432289, name='internal_306')\n",
      "                                    Clade(branch_length=71.187805, name='SAMN03259167/1989/Sus_scrofa/United States')\n",
      "                                    Clade(branch_length=157.783401, name='SAMN03610058/2010/Bos_taurus/Brazil')\n",
      "                                Clade(branch_length=200.08815, name='internal_155')\n",
      "                                    Clade(branch_length=6.927277, name='SAMN04235587/2011/Canis_lupus_familiaris/France')\n",
      "                                    Clade(branch_length=22.804216, name='SAMN04231379/2011/Canis_lupus_familiaris/France')\n",
      "                            Clade(branch_length=631.489929, name='SAMN01036683/2011/Mastomys_sp./Tanzania')\n",
      "                        Clade(branch_length=23438.853516, name='SAMN02949555/1971/Rattus_losea/China')\n"
     ]
    }
   ],
   "source": [
    "gubbins_interrogans = Phylo.read(tree_path + \"/global_iqtree/dated_interrogans_gubbins.node_labelled.final_tree.tre\",\"newick\")\n",
    "\n",
    "for taxa in sample_date_dict:\n",
    "    newname=taxa + \"/\" + str(sample_date_dict[taxa])+ \"/\"  + sample_host_dict[taxa]+ \"/\"  + sample_country_dict[taxa]\n",
    "    if gubbins_interrogans.find_any(str(taxa + \".fna\")) != None:\n",
    "            gubbins_interrogans.find_any(str(taxa + \".fna\")).name = newname\n",
    "    elif gubbins_interrogans.find_any(str(taxa + \".fasta\")) != None:\n",
    "            gubbins_interrogans.find_any(str(taxa + \".fasta\")).name = newname"
   ]
  },
  {
   "cell_type": "code",
   "execution_count": null,
   "metadata": {},
   "outputs": [],
   "source": []
  }
 ],
 "metadata": {
  "kernelspec": {
   "display_name": "Python 3",
   "language": "python",
   "name": "python3"
  },
  "language_info": {
   "codemirror_mode": {
    "name": "ipython",
    "version": 3
   },
   "file_extension": ".py",
   "mimetype": "text/x-python",
   "name": "python",
   "nbconvert_exporter": "python",
   "pygments_lexer": "ipython3",
   "version": "3.7.4"
  }
 },
 "nbformat": 4,
 "nbformat_minor": 4
}
