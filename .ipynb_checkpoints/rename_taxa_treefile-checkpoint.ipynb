{
 "cells": [
  {
   "cell_type": "markdown",
   "metadata": {},
   "source": [
    "## Rename IQ tree output file \n",
    "  - add country\n",
    "  - collection date\n",
    "  - host/ collection source\n",
    "  - TempEst Tutorial: \n",
    "    - https://beast.community/tempest_tutorial"
   ]
  },
  {
   "cell_type": "code",
   "execution_count": 150,
   "metadata": {},
   "outputs": [],
   "source": [
    "import pandas as pd\n",
    "import os\n",
    "from Bio import Phylo"
   ]
  },
  {
   "cell_type": "code",
   "execution_count": 151,
   "metadata": {},
   "outputs": [],
   "source": [
    "path = \"/Users/rachel/Dropbox/5.Rachel-projects/Phylogeography/Dated_Assemblies/Global\"\n",
    "tree_path=\"/Users/rachel/Desktop\""
   ]
  },
  {
   "cell_type": "code",
   "execution_count": 152,
   "metadata": {},
   "outputs": [],
   "source": [
    "\n",
    "\n",
    "global_meta = pd.read_csv(path + \"/388_global_metadata_fig_ann.txt\",sep=\"\\t\",keep_default_na=False)\n",
    "\n",
    "sample_host_dict = global_meta[['BioSample.Accession',\"Host.Name.x\"]].set_index(\n",
    "    \"BioSample.Accession\").to_dict()[\"Host.Name.x\"]\n",
    "\n",
    "for biosample in sample_host_dict:\n",
    "    sample_host_dict[biosample] = sample_host_dict[biosample].replace(\" \",\"_\")\n",
    "\n",
    "sample_date_dict= global_meta[['BioSample.Accession',\"Collection.Date.Formatted\"]].set_index(\n",
    "    \"BioSample.Accession\").to_dict()[\"Collection.Date.Formatted\"]\n",
    "\n",
    "sample_country_dict=global_meta[['BioSample.Accession',\"country\"]].set_index(\n",
    "    \"BioSample.Accession\").to_dict()[\"country\"]\n",
    "\n",
    "\n",
    "\n",
    "# df = pd.read_csv(path + \"/388_global_metadata_fig_ann.txt\",sep=\"\\t\")\n",
    "# mask = df[\"Genome.Name.x\"]== \"Leptospira interrogans serovar Canicola\"\n",
    "# mask\n",
    "# df.loc[mask]"
   ]
  },
  {
   "cell_type": "code",
   "execution_count": 158,
   "metadata": {},
   "outputs": [],
   "source": [
    "tree = Phylo.read(tree_path + \"/iqtree_all_date.treefile\",\"newick\")\n",
    "#tree.find_any(\"SAMD00111974\").name = sample_date_dict[\"SAMD00111974\"]\n",
    "for taxa in sample_date_dict:\n",
    "    newname=taxa + \"/\" + sample_date_dict[taxa]+ \"/\"  + sample_host_dict[taxa]+ \"/\"  + sample_country_dict[taxa]\n",
    "    tree.find_any(taxa).name = newname\n"
   ]
  },
  {
   "cell_type": "code",
   "execution_count": 159,
   "metadata": {},
   "outputs": [
    {
     "data": {
      "text/plain": [
       "1"
      ]
     },
     "execution_count": 159,
     "metadata": {},
     "output_type": "execute_result"
    }
   ],
   "source": [
    "Phylo.write(tree, path + \"/renamed_global_iqtree.treefile\",\"newick\")"
   ]
  },
  {
   "cell_type": "code",
   "execution_count": 43,
   "metadata": {},
   "outputs": [
    {
     "data": {
      "text/plain": [
       "<bound method DataFrame.to_dict of     BioSample.Accession Collection.Date.Formatted\n",
       "0          SAMN06434252                2016-01-01\n",
       "1          SAMN10316370                2016-01-01\n",
       "2          SAMN02947957                1982-01-01\n",
       "3          SAMN02947777                1959-01-01\n",
       "4          SAMN02949570                1970-01-01\n",
       "..                  ...                       ...\n",
       "383        SAMN09521107                2017-09-06\n",
       "384        SAMEA6635857                2013-01-01\n",
       "385        SAMEA6635858                2014-01-01\n",
       "386        SAMEA6635859                2007-01-01\n",
       "387        SAMEA6635860                1961-01-01\n",
       "\n",
       "[388 rows x 2 columns]>"
      ]
     },
     "execution_count": 43,
     "metadata": {},
     "output_type": "execute_result"
    }
   ],
   "source": []
  },
  {
   "cell_type": "code",
   "execution_count": null,
   "metadata": {},
   "outputs": [],
   "source": []
  }
 ],
 "metadata": {
  "kernelspec": {
   "display_name": "Python 3",
   "language": "python",
   "name": "python3"
  },
  "language_info": {
   "codemirror_mode": {
    "name": "ipython",
    "version": 3
   },
   "file_extension": ".py",
   "mimetype": "text/x-python",
   "name": "python",
   "nbconvert_exporter": "python",
   "pygments_lexer": "ipython3",
   "version": "3.7.4"
  }
 },
 "nbformat": 4,
 "nbformat_minor": 4
}
