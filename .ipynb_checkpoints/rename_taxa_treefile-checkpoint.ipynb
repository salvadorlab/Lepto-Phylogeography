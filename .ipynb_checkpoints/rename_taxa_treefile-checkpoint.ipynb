{
 "cells": [
  {
   "cell_type": "markdown",
   "metadata": {},
   "source": [
    "## Rename IQ tree output file \n",
    "  - add country\n",
    "  - collection date\n",
    "  - host/ collection source\n",
    "  - TempEst Tutorial: \n",
    "    - https://beast.community/tempest_tutorial"
   ]
  },
  {
   "cell_type": "code",
   "execution_count": 2,
   "metadata": {},
   "outputs": [],
   "source": [
    "import pandas as pd\n",
    "import os\n",
    "from Bio import Phylo"
   ]
  },
  {
   "cell_type": "code",
   "execution_count": 3,
   "metadata": {},
   "outputs": [],
   "source": [
    "global_path = \"/Users/rachel/Dropbox/5.Rachel-projects/Phylogeography/Dated_Assemblies/Global\"\n",
    "latin_path = \"/Users/rachel/Dropbox/5.Rachel-projects/Phylogeography/Dated_Assemblies/Latin\"\n",
    "tree_path=\"/Users/rachel/Desktop\""
   ]
  },
  {
   "cell_type": "markdown",
   "metadata": {},
   "source": [
    "### Global Metadata"
   ]
  },
  {
   "cell_type": "code",
   "execution_count": 4,
   "metadata": {},
   "outputs": [],
   "source": [
    "\n",
    "global_meta = pd.read_csv(global_path + \"/388_global_metadata_fig_ann.txt\",sep=\"\\t\",keep_default_na=False)\n",
    "\n",
    "sample_host_dict = global_meta[['BioSample.Accession',\"Host.Name.x\"]].set_index(\n",
    "    \"BioSample.Accession\").to_dict()[\"Host.Name.x\"]\n",
    "\n",
    "for biosample in sample_host_dict:\n",
    "    sample_host_dict[biosample] = sample_host_dict[biosample].replace(\" \",\"_\")\n",
    "\n",
    "sample_date_dict= global_meta[['BioSample.Accession',\"Year\"]].set_index(\n",
    "    \"BioSample.Accession\").to_dict()[\"Year\"]\n",
    "\n",
    "sample_country_dict=global_meta[['BioSample.Accession',\"country\"]].set_index(\n",
    "    \"BioSample.Accession\").to_dict()[\"country\"]\n",
    "\n",
    "\n",
    "\n",
    "# df = pd.read_csv(path + \"/388_global_metadata_fig_ann.txt\",sep=\"\\t\")\n",
    "# mask = df[\"Genome.Name.x\"]== \"Leptospira interrogans serovar Canicola\"\n",
    "# mask\n",
    "# df.loc[mask]"
   ]
  },
  {
   "cell_type": "code",
   "execution_count": 5,
   "metadata": {},
   "outputs": [
    {
     "data": {
      "text/html": [
       "<div>\n",
       "<style scoped>\n",
       "    .dataframe tbody tr th:only-of-type {\n",
       "        vertical-align: middle;\n",
       "    }\n",
       "\n",
       "    .dataframe tbody tr th {\n",
       "        vertical-align: top;\n",
       "    }\n",
       "\n",
       "    .dataframe thead th {\n",
       "        text-align: right;\n",
       "    }\n",
       "</style>\n",
       "<table border=\"1\" class=\"dataframe\">\n",
       "  <thead>\n",
       "    <tr style=\"text-align: right;\">\n",
       "      <th></th>\n",
       "      <th>BioSample.Accession</th>\n",
       "      <th>Genome.Name.x</th>\n",
       "      <th>Host.Name.x</th>\n",
       "      <th>Geographic.Location.x</th>\n",
       "      <th>country</th>\n",
       "      <th>La.lon</th>\n",
       "      <th>Collection.Date.Formatted</th>\n",
       "      <th>Year</th>\n",
       "      <th>species</th>\n",
       "    </tr>\n",
       "  </thead>\n",
       "  <tbody>\n",
       "    <tr>\n",
       "      <th>0</th>\n",
       "      <td>SAMN06434252</td>\n",
       "      <td>Leptospira interrogans serovar Canicola</td>\n",
       "      <td>Canis lupus familiaris</td>\n",
       "      <td>Brazil: Sao Paulo</td>\n",
       "      <td>Brazil</td>\n",
       "      <td>23.533773 S 46.625290 W</td>\n",
       "      <td>1/1/16</td>\n",
       "      <td>2016</td>\n",
       "      <td>interrogans</td>\n",
       "    </tr>\n",
       "    <tr>\n",
       "      <th>1</th>\n",
       "      <td>SAMN10316370</td>\n",
       "      <td>Leptospira mayottensis strain 201601116</td>\n",
       "      <td>water</td>\n",
       "      <td>Mayotte</td>\n",
       "      <td>Mayotte</td>\n",
       "      <td></td>\n",
       "      <td>1/1/16</td>\n",
       "      <td>2016</td>\n",
       "      <td>mayottensis</td>\n",
       "    </tr>\n",
       "    <tr>\n",
       "      <th>2</th>\n",
       "      <td>SAMN02947957</td>\n",
       "      <td>Leptospira santarosai strain 56274</td>\n",
       "      <td>Didelphis marsupialis</td>\n",
       "      <td>Panama</td>\n",
       "      <td>Panama</td>\n",
       "      <td>9.31 N 79.43 W</td>\n",
       "      <td>1/1/82</td>\n",
       "      <td>1982</td>\n",
       "      <td>santarosai</td>\n",
       "    </tr>\n",
       "    <tr>\n",
       "      <th>3</th>\n",
       "      <td>SAMN02947777</td>\n",
       "      <td>Leptospira borgpetersenii strain 56607</td>\n",
       "      <td>Equus caballus</td>\n",
       "      <td>China</td>\n",
       "      <td>China</td>\n",
       "      <td>26.05 N 119.18 E</td>\n",
       "      <td>1/1/59</td>\n",
       "      <td>1959</td>\n",
       "      <td>borgpetersenii</td>\n",
       "    </tr>\n",
       "    <tr>\n",
       "      <th>4</th>\n",
       "      <td>SAMN02949570</td>\n",
       "      <td>Leptospira interrogans strain 56647</td>\n",
       "      <td>Homo sapiens</td>\n",
       "      <td>Yunnan, China</td>\n",
       "      <td>China</td>\n",
       "      <td>25.04 N 102.42 E</td>\n",
       "      <td>1/1/70</td>\n",
       "      <td>1970</td>\n",
       "      <td>interrogans</td>\n",
       "    </tr>\n",
       "    <tr>\n",
       "      <th>...</th>\n",
       "      <td>...</td>\n",
       "      <td>...</td>\n",
       "      <td>...</td>\n",
       "      <td>...</td>\n",
       "      <td>...</td>\n",
       "      <td>...</td>\n",
       "      <td>...</td>\n",
       "      <td>...</td>\n",
       "      <td>...</td>\n",
       "    </tr>\n",
       "    <tr>\n",
       "      <th>383</th>\n",
       "      <td>SAMN09521107</td>\n",
       "      <td>Leptospira interrogans serovar Copenhageni</td>\n",
       "      <td>Urva auropunctata</td>\n",
       "      <td>Saint Kitts and Nevis: Saint Kitts</td>\n",
       "      <td>Saint Kitts and Nevis</td>\n",
       "      <td>17.363747 N 62.754594 W</td>\n",
       "      <td>9/6/17</td>\n",
       "      <td>2017</td>\n",
       "      <td>interrogans</td>\n",
       "    </tr>\n",
       "    <tr>\n",
       "      <th>384</th>\n",
       "      <td>SAMEA6635857</td>\n",
       "      <td>Leptospira kirschneri</td>\n",
       "      <td>Sus scrofa</td>\n",
       "      <td>Italy</td>\n",
       "      <td>Italy</td>\n",
       "      <td>44.4133 N 12.2011 E</td>\n",
       "      <td>1/1/13</td>\n",
       "      <td>2013</td>\n",
       "      <td>kirschneri</td>\n",
       "    </tr>\n",
       "    <tr>\n",
       "      <th>385</th>\n",
       "      <td>SAMEA6635858</td>\n",
       "      <td>Leptospira kirschneri</td>\n",
       "      <td>Sus scrofa</td>\n",
       "      <td>Italy</td>\n",
       "      <td>Italy</td>\n",
       "      <td>44.6477 N  10.92527 E</td>\n",
       "      <td>1/1/14</td>\n",
       "      <td>2014</td>\n",
       "      <td>kirschneri</td>\n",
       "    </tr>\n",
       "    <tr>\n",
       "      <th>386</th>\n",
       "      <td>SAMEA6635859</td>\n",
       "      <td>Leptospira interrogans serovar Pomona</td>\n",
       "      <td>Sus scrofa</td>\n",
       "      <td>Italy</td>\n",
       "      <td>Italy</td>\n",
       "      <td>45.1602 N  10.7977 E</td>\n",
       "      <td>1/1/07</td>\n",
       "      <td>2007</td>\n",
       "      <td>interrogans</td>\n",
       "    </tr>\n",
       "    <tr>\n",
       "      <th>387</th>\n",
       "      <td>SAMEA6635860</td>\n",
       "      <td>Leptospira kirschneri serovar Mozdok</td>\n",
       "      <td>Microtus arvalis</td>\n",
       "      <td>Russia</td>\n",
       "      <td>Russia</td>\n",
       "      <td></td>\n",
       "      <td>1/1/61</td>\n",
       "      <td>1961</td>\n",
       "      <td>kirschneri</td>\n",
       "    </tr>\n",
       "  </tbody>\n",
       "</table>\n",
       "<p>388 rows × 9 columns</p>\n",
       "</div>"
      ],
      "text/plain": [
       "    BioSample.Accession                               Genome.Name.x  \\\n",
       "0          SAMN06434252     Leptospira interrogans serovar Canicola   \n",
       "1          SAMN10316370     Leptospira mayottensis strain 201601116   \n",
       "2          SAMN02947957          Leptospira santarosai strain 56274   \n",
       "3          SAMN02947777      Leptospira borgpetersenii strain 56607   \n",
       "4          SAMN02949570         Leptospira interrogans strain 56647   \n",
       "..                  ...                                         ...   \n",
       "383        SAMN09521107  Leptospira interrogans serovar Copenhageni   \n",
       "384        SAMEA6635857                       Leptospira kirschneri   \n",
       "385        SAMEA6635858                       Leptospira kirschneri   \n",
       "386        SAMEA6635859       Leptospira interrogans serovar Pomona   \n",
       "387        SAMEA6635860        Leptospira kirschneri serovar Mozdok   \n",
       "\n",
       "                Host.Name.x               Geographic.Location.x  \\\n",
       "0    Canis lupus familiaris                   Brazil: Sao Paulo   \n",
       "1                     water                             Mayotte   \n",
       "2     Didelphis marsupialis                              Panama   \n",
       "3            Equus caballus                               China   \n",
       "4              Homo sapiens                       Yunnan, China   \n",
       "..                      ...                                 ...   \n",
       "383       Urva auropunctata  Saint Kitts and Nevis: Saint Kitts   \n",
       "384              Sus scrofa                               Italy   \n",
       "385              Sus scrofa                               Italy   \n",
       "386              Sus scrofa                               Italy   \n",
       "387        Microtus arvalis                              Russia   \n",
       "\n",
       "                   country                   La.lon Collection.Date.Formatted  \\\n",
       "0                   Brazil  23.533773 S 46.625290 W                    1/1/16   \n",
       "1                  Mayotte                                             1/1/16   \n",
       "2                   Panama           9.31 N 79.43 W                    1/1/82   \n",
       "3                    China         26.05 N 119.18 E                    1/1/59   \n",
       "4                    China         25.04 N 102.42 E                    1/1/70   \n",
       "..                     ...                      ...                       ...   \n",
       "383  Saint Kitts and Nevis  17.363747 N 62.754594 W                    9/6/17   \n",
       "384                  Italy      44.4133 N 12.2011 E                    1/1/13   \n",
       "385                  Italy    44.6477 N  10.92527 E                    1/1/14   \n",
       "386                  Italy     45.1602 N  10.7977 E                    1/1/07   \n",
       "387                 Russia                                             1/1/61   \n",
       "\n",
       "     Year         species  \n",
       "0    2016     interrogans  \n",
       "1    2016     mayottensis  \n",
       "2    1982      santarosai  \n",
       "3    1959  borgpetersenii  \n",
       "4    1970     interrogans  \n",
       "..    ...             ...  \n",
       "383  2017     interrogans  \n",
       "384  2013      kirschneri  \n",
       "385  2014      kirschneri  \n",
       "386  2007     interrogans  \n",
       "387  1961      kirschneri  \n",
       "\n",
       "[388 rows x 9 columns]"
      ]
     },
     "execution_count": 5,
     "metadata": {},
     "output_type": "execute_result"
    }
   ],
   "source": [
    "global_meta"
   ]
  },
  {
   "cell_type": "code",
   "execution_count": 7,
   "metadata": {},
   "outputs": [],
   "source": [
    "tree = Phylo.read(tree_path + \"/global_iqtree/iqtree_all_date.treefile\",\"newick\")\n",
    "\n",
    "for taxa in sample_date_dict:\n",
    "    newname=taxa + \"/\" + str(sample_date_dict[taxa])+ \"/\"  + sample_host_dict[taxa]+ \"/\"  + sample_country_dict[taxa]\n",
    "    tree.find_any(taxa).name = newname\n"
   ]
  },
  {
   "cell_type": "code",
   "execution_count": 8,
   "metadata": {},
   "outputs": [
    {
     "data": {
      "text/plain": [
       "1"
      ]
     },
     "execution_count": 8,
     "metadata": {},
     "output_type": "execute_result"
    }
   ],
   "source": [
    "Phylo.write(tree, tree_path + \"/global_iqtree/renamed_global_iqtree.treefile\",\"newick\")"
   ]
  },
  {
   "cell_type": "markdown",
   "metadata": {},
   "source": [
    "### Latin Metadata"
   ]
  },
  {
   "cell_type": "code",
   "execution_count": 197,
   "metadata": {},
   "outputs": [],
   "source": [
    "\n",
    "latin_meta = pd.read_csv(latin_path + \"/latin_date_figAnn.txt\",sep=\"\\t\",keep_default_na=False)\n",
    "latin_meta\n",
    "latin_sample_host_dict = latin_meta[['BioSample.Accession',\"Host\"]].set_index(\n",
    "    \"BioSample.Accession\").to_dict()[\"Host\"]\n",
    "\n",
    "for biosample in latin_sample_host_dict:\n",
    "    latin_sample_host_dict[biosample] = latin_sample_host_dict[biosample].replace(\" \",\"_\")\n",
    "\n",
    "latin_sample_date_dict= latin_meta[['BioSample.Accession',\"Collection.Date.Formatted\"]].set_index(\n",
    "    \"BioSample.Accession\").to_dict()[\"Collection.Date.Formatted\"]\n",
    "\n",
    "latin_sample_country_dict=latin_meta[['BioSample.Accession',\"country\"]].set_index(\n",
    "    \"BioSample.Accession\").to_dict()[\"country\"]"
   ]
  },
  {
   "cell_type": "markdown",
   "metadata": {},
   "source": [
    "### Latin Tree"
   ]
  },
  {
   "cell_type": "code",
   "execution_count": 198,
   "metadata": {},
   "outputs": [],
   "source": [
    "tree_latin = Phylo.read(tree_path + \"/global_iqtree/iqtree_latin.treefile\",\"newick\")\n",
    "\n",
    "for taxa in latin_sample_date_dict:\n",
    "    newname=taxa + \"/\" + latin_sample_date_dict[taxa] + \"/\"  + latin_sample_host_dict[taxa]+ \"/\"  + latin_sample_country_dict[taxa]\n",
    "    tree_latin.find_any(taxa).name = newname\n",
    "\n"
   ]
  },
  {
   "cell_type": "code",
   "execution_count": 199,
   "metadata": {},
   "outputs": [
    {
     "data": {
      "text/plain": [
       "1"
      ]
     },
     "execution_count": 199,
     "metadata": {},
     "output_type": "execute_result"
    }
   ],
   "source": [
    "Phylo.write(tree_latin, tree_path + \"/global_iqtree/renamed_latin_iqtree.treefile\",\"newick\")"
   ]
  },
  {
   "cell_type": "code",
   "execution_count": 13,
   "metadata": {},
   "outputs": [],
   "source": [
    "tree_global_binary = Phylo.read(tree_path + \"/global_iqtree/binary_presence_absence_global.nwk\",\"newick\")\n",
    "\n",
    "for taxa in sample_date_dict:\n",
    "    newname=taxa + \"/\" + str(sample_date_dict[taxa])+ \"/\"  + sample_host_dict[taxa]+ \"/\"  + sample_country_dict[taxa]\n",
    "    tree_global_binary.find_any(taxa).name = newname\n"
   ]
  },
  {
   "cell_type": "code",
   "execution_count": 14,
   "metadata": {},
   "outputs": [
    {
     "data": {
      "text/plain": [
       "1"
      ]
     },
     "execution_count": 14,
     "metadata": {},
     "output_type": "execute_result"
    }
   ],
   "source": [
    "Phylo.write(tree_global_binary, tree_path + \"/global_iqtree/renamed_iqtree_global_binary.nwk\",\"newick\")"
   ]
  },
  {
   "cell_type": "code",
   "execution_count": 10,
   "metadata": {},
   "outputs": [],
   "source": [
    "tree_ppk_nodup = Phylo.read(tree_path + \"/global_iqtree/ppk_iqtree_nodup.treefile\",\"newick\")\n",
    "\n",
    "for taxa in sample_date_dict:\n",
    "    newname=taxa + \"/\" + str(sample_date_dict[taxa])+ \"/\"  + sample_host_dict[taxa]+ \"/\"  + sample_country_dict[taxa]\n",
    "    if tree_ppk_nodup.find_any(taxa) != None:\n",
    "        tree_ppk_nodup.find_any(taxa).name = newname\n"
   ]
  },
  {
   "cell_type": "code",
   "execution_count": 12,
   "metadata": {},
   "outputs": [
    {
     "data": {
      "text/plain": [
       "1"
      ]
     },
     "execution_count": 12,
     "metadata": {},
     "output_type": "execute_result"
    }
   ],
   "source": [
    "Phylo.write(tree_ppk_nodup, tree_path + \"/global_iqtree/renamed_tree_ppk_nodup.treefile\",\"newick\")"
   ]
  },
  {
   "cell_type": "code",
   "execution_count": null,
   "metadata": {},
   "outputs": [],
   "source": []
  }
 ],
 "metadata": {
  "kernelspec": {
   "display_name": "Python 3",
   "language": "python",
   "name": "python3"
  },
  "language_info": {
   "codemirror_mode": {
    "name": "ipython",
    "version": 3
   },
   "file_extension": ".py",
   "mimetype": "text/x-python",
   "name": "python",
   "nbconvert_exporter": "python",
   "pygments_lexer": "ipython3",
   "version": "3.7.4"
  }
 },
 "nbformat": 4,
 "nbformat_minor": 4
}
