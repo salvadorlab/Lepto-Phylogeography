{
 "cells": [
  {
   "cell_type": "code",
   "execution_count": 1,
   "metadata": {},
   "outputs": [],
   "source": [
    "import pandas as pd\n",
    "import os\n",
    "import xml.etree.ElementTree as ET"
   ]
  },
  {
   "cell_type": "code",
   "execution_count": 60,
   "metadata": {},
   "outputs": [],
   "source": [
    "# both file was downloaded from NCBI after batch entrez search with biosample list\n",
    "# max number of record to process is 200\n",
    "\n",
    "# dir for downloaded asms\n",
    "asm_path= \"/Users/rachel/Downloads/genome_assemblies_genome_fasta (2)/ncbi-genomes-2020-12-16/\" \n",
    "\n",
    "# dir for xml of the downloaded asm\n",
    "xml=\"/Users/rachel/Downloads/assembly_result (1).xml\" # this file need to add a general header before process"
   ]
  },
  {
   "cell_type": "code",
   "execution_count": 63,
   "metadata": {},
   "outputs": [],
   "source": [
    "asm_db = ET.parse(xml)\n",
    "root = asm_db.getroot()\n",
    "\n",
    "# put all the downloaded GCF asm into a dictionary\n",
    "GCF_accn_db=dict()\n",
    "for file in os.listdir(asm_path):\n",
    "    GCF= \"_\".join(file.split(\"_\")[0:2]) # take GCF accn from file name\n",
    "    GCF_accn_db[GCF]=\"\"\n",
    "    \n",
    "# match downloaded ASM file name with biosample Accession from \n",
    "for asm in root.findall(\"DocumentSummary\"):\n",
    "#     GCF = asm.find(\"AssemblyAccession\").text # find the GCF accn in the xml\n",
    "    GCF=asm.find(\"Synonym\").find(\"Genbank\").text # find GCA accn in the xml (when GCF record is suppressed)\n",
    "    if GCF in GCF_accn_db: # check if the GCF acc is in the downloaded asm\n",
    "        GCF_accn_db[GCF]=asm.find(\"BioSampleAccn\").text # match biosample acc with GCF\n",
    "\n",
    "    "
   ]
  },
  {
   "cell_type": "code",
   "execution_count": 65,
   "metadata": {},
   "outputs": [
    {
     "data": {
      "text/plain": [
       "''"
      ]
     },
     "execution_count": 65,
     "metadata": {},
     "output_type": "execute_result"
    }
   ],
   "source": [
    "# delete two summary file from dict\n",
    "GCF_accn_db.pop(\"md5checksums.txt\",None)\n",
    "GCF_accn_db.pop(\"README.txt\",None)"
   ]
  },
  {
   "cell_type": "code",
   "execution_count": 66,
   "metadata": {},
   "outputs": [],
   "source": [
    "for file in os.listdir(asm_path):\n",
    "    GCF= \"_\".join(file.split(\"_\")[0:2])\n",
    "    if GCF in GCF_accn_db:\n",
    "        os.rename(asm_path + file, asm_path + GCF_accn_db[GCF]+\".fna.gz\")"
   ]
  },
  {
   "cell_type": "code",
   "execution_count": 64,
   "metadata": {},
   "outputs": [
    {
     "data": {
      "text/plain": [
       "{'GCA_000216135.3': 'SAMN00255260',\n",
       " 'GCA_000244635.3': 'SAMN00739254',\n",
       " 'GCA_000216155.3': 'SAMN00255258',\n",
       " 'GCA_000243935.3': 'SAMN00739244',\n",
       " 'GCA_000216115.3': 'SAMN00255261',\n",
       " 'GCA_015223405.1': 'SAMN14582901',\n",
       " 'md5checksums.txt': '',\n",
       " 'README.txt': '',\n",
       " 'GCA_000244435.3': 'SAMN00739291',\n",
       " 'GCA_015223395.1': 'SAMN14582900'}"
      ]
     },
     "execution_count": 64,
     "metadata": {},
     "output_type": "execute_result"
    }
   ],
   "source": [
    "GCF_accn_db"
   ]
  },
  {
   "cell_type": "code",
   "execution_count": 5,
   "metadata": {},
   "outputs": [],
   "source": [
    "# searched term \"Leptospira\" in NCBI's Assembly database - 761 records\n",
    "# extract all biosamples accession from the xml\n",
    "\n",
    "file_path=\"/Users/rachel/Desktop/assembly_result (2).xml\"\n",
    "\n",
    "xml=ET.parse(file_path)\n",
    "xml_root=xml.getroot()\n",
    "\n",
    "biosample_list=[]\n",
    "\n",
    "for record in xml.findall(\"DocumentSummary\"):\n",
    "    biosample_list.append(record.find(\"BioSampleAccn\").text)\n",
    "    \n",
    "    \n",
    "biosample_df = pd.DataFrame(biosample_list)\n",
    "\n",
    "biosample_df.to_csv(\"/Users/rachel/Desktop/ncbi_assembly_biosample_accession.txt\", header=False, index=False)\n"
   ]
  },
  {
   "cell_type": "code",
   "execution_count": null,
   "metadata": {},
   "outputs": [],
   "source": []
  }
 ],
 "metadata": {
  "kernelspec": {
   "display_name": "Python 3",
   "language": "python",
   "name": "python3"
  },
  "language_info": {
   "codemirror_mode": {
    "name": "ipython",
    "version": 3
   },
   "file_extension": ".py",
   "mimetype": "text/x-python",
   "name": "python",
   "nbconvert_exporter": "python",
   "pygments_lexer": "ipython3",
   "version": "3.7.4"
  }
 },
 "nbformat": 4,
 "nbformat_minor": 4
}
