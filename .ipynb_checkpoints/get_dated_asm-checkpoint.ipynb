{
 "cells": [
  {
   "cell_type": "code",
   "execution_count": 37,
   "metadata": {},
   "outputs": [],
   "source": [
    "import pandas as pd\n",
    "from Bio import Entrez"
   ]
  },
  {
   "cell_type": "code",
   "execution_count": 38,
   "metadata": {},
   "outputs": [],
   "source": [
    "path = \"/Users/rx32940/Dropbox/5.Rachel-projects/Phylogeography/Dated_Assemblies/\""
   ]
  },
  {
   "cell_type": "code",
   "execution_count": 39,
   "metadata": {},
   "outputs": [],
   "source": [
    "# data collected from ncbi SRA databases with keyword \"Leptospira\"\n",
    "all_data = pd.read_csv(path + \"Leptospira_sra_all_1258.csv\")\n",
    "\n",
    "wgs = all_data[(all_data[\"Assay Type\"] == \"WGS\") & \n",
    "               (all_data[\"Collection_Date\"].notnull()) & \n",
    "               (all_data[\"Collection_Date\"] != \"not applicable\") & \n",
    "              (all_data[\"Collection_Date\"] != \"missing\")]\n",
    "\n",
    "pd.unique(wgs[\"Collection_Date\"])\n",
    "\n",
    "wgs \n",
    "\n",
    "# wgs.to_csv(path + \"Leptospira_sra_datedWGS_248.csv\") \n",
    "\n",
    "# row 242 to 245, added geographic_location_(country_and/or_sea) info to geo_loc_name\n",
    "wgs = pd.read_csv(path + \"Leptospira_sra_datedWGS_248.csv\")\n",
    "\n",
    "wgs = wgs.drop([\"Alias\",\"Alias\",\"INSDC_status\",\"SRA_accession\",\"title\",\"geographic_location_(country_and/or_sea)\",\"env_biome\",\"env_feature\",\n",
    "               \"env_feature\",\"Depth\",\"project_name\",\"samp_collect_device\",\"sample_name\",\"INSDC_center_name\",\"env_material\",\n",
    "                \"host_scientific_name\", \"sample_ID\",\"host_subject_ID\",\"sample_comment\"], axis=1) # axis = 1 is column, axis = 0 is row\n",
    "# wgs.to_csv(path + \"Leptospira_sra_datedWGS_248.csv\") "
   ]
  },
  {
   "cell_type": "code",
   "execution_count": 41,
   "metadata": {},
   "outputs": [],
   "source": [
    "# data collected from PATRIC database with keyword \"Leptospira\" -> Genomes (681)\n",
    "all_genomes = pd.read_csv(path + \"PATRIC_genome-681.csv\")\n",
    "all_genomes = all_genomes[((all_genomes[\"Genome Status\"] == \"WGS\") | (all_genomes[\"Genome Status\"] == \"Complete\")) &\n",
    "                         (all_genomes[\"Collection Date\"].notnull())]\n",
    "\n",
    "all_genomes = all_genomes.drop([\"Biovar\",\"Pathovar\",\"Other Typing\", \"Culture Collection\", \"Type Strain\", \"Completion Date\", \"Publication\",\n",
    "                               \"Assembly Accession\",\"RefSeq CDS\", \"Isolation Site\", 'Host Age', \"Host Gender\",\n",
    "                                'Host Health', 'Body Sample Site', 'Body Sample Subsite',\n",
    "                                'Other Clinical', 'AntiMicrobial Resistance',\n",
    "                                'AntiMicrobial Resistance Evidence', 'Gram Stain', 'Cell Shape',\n",
    "                                'Motility', 'Sporulation', 'Temperature Range', 'Optimal Temperature',\n",
    "                                'Salinity', 'Oxygen Requirement', 'Habitat', 'Disease','Date Inserted', 'Date Modified','PATRIC CDS','Latitude', 'Longitude',\n",
    "                                'Altitude', 'Depth', 'Other Environmental','Coarse Consistency', 'Fine Consistency',\n",
    "       'Checkm Completeness', 'Checkm Contamination','Chromosomes', 'Plasmids',\"Comments\",\"MLST\"], axis=1)\n",
    "\n",
    "# some genomes belongs to the phage of Leptospira\n",
    "all_genomes = all_genomes[(all_genomes[\"Genome Name\"].str.contains(\"phage\") == False) & (all_genomes[\"Genome Quality\"] == \"Good\")]\n",
    "all_genomes = all_genomes.rename(columns = {\"BioSample Accession\":\"BioSample\", \"BioProject Accession\" : \"BioProject\"})\n",
    "# all_genomes.to_csv(path + \"PATRIC_WGS_dated_353.csv\")\n",
    "\n"
   ]
  },
  {
   "cell_type": "code",
   "execution_count": 42,
   "metadata": {},
   "outputs": [],
   "source": [
    "merged_biosamples = pd.merge(all_genomes, wgs, how= \"outer\")\n",
    "\n",
    "merged_biosample_acc = pd.DataFrame(pd.unique(merged_biosamples[\"BioSample\"]))\n",
    "merged_bioproject = pd.DataFrame(pd.unique(merged_biosamples[\"BioProject\"]))\n",
    "\n",
    "# merged_bioproject.to_csv(path + \"ncbi_patric_dated_110_biopoject.txt\", header=None, index=None,sep=\"\\n\")\n",
    "# merged_biosample_acc.to_csv(path + \"ncbi_patric_dated_390_acc.txt\", header=None, index=None,sep=\"\\n\")\n",
    "# merged_biosamples.to_csv(path + \"merged_biosamples_ncbi_patric_dated_449.csv\")"
   ]
  },
  {
   "cell_type": "code",
   "execution_count": 43,
   "metadata": {},
   "outputs": [],
   "source": [
    "# put 390 biosample acc into batch entrez (assembly), show 37 without records, extracted accessions from the batch entrez warning\n",
    "# no_asm_biosample_37.txt: copied from warning page\n",
    "\n",
    "with open(path + \"no_asm_biosample_37_acc.txt\",\"w\") as w: # acc without matching assembly record\n",
    "    w.write(\"\")\n",
    "\n",
    "with open(path + \"no_asm_biosample_37.txt\") as f:\n",
    "    file = f.readlines()\n",
    "\n",
    "    for line in file:\n",
    "        acc = line[line.index(\"S\"):line.index(\":\")]\n",
    "        with open(path + \"no_asm_biosample_37_acc.txt\",\"a+\") as w:\n",
    "            w.write(acc + \"\\n\")\n"
   ]
  },
  {
   "cell_type": "code",
   "execution_count": 44,
   "metadata": {},
   "outputs": [],
   "source": [
    "# merge no asm record acc with all dated acc\n",
    "\n",
    "no_asm_acc = pd.read_csv(path + \"no_asm_biosample_37_acc.txt\", sep=\"\\n\",header=None)\n",
    "all_acc = pd.read_csv(path + \"ncbi_patric_dated_390_acc.txt\", sep=\"\\n\",header=None)\n",
    "\n",
    "with_asm_acc = pd.DataFrame(set(all_acc[0]).difference(no_asm_acc[0]))\n",
    "# with_asm_acc.to_csv(path + \"with_asm_353_acc.txt\",header=None,sep=\"\\n\",index=None)"
   ]
  },
  {
   "cell_type": "code",
   "execution_count": null,
   "metadata": {},
   "outputs": [],
   "source": []
  },
  {
   "cell_type": "code",
   "execution_count": null,
   "metadata": {},
   "outputs": [],
   "source": []
  },
  {
   "cell_type": "code",
   "execution_count": null,
   "metadata": {},
   "outputs": [],
   "source": []
  },
  {
   "cell_type": "code",
   "execution_count": null,
   "metadata": {},
   "outputs": [],
   "source": []
  }
 ],
 "metadata": {
  "kernelspec": {
   "display_name": "Python 3",
   "language": "python",
   "name": "python3"
  },
  "language_info": {
   "codemirror_mode": {
    "name": "ipython",
    "version": 3
   },
   "file_extension": ".py",
   "mimetype": "text/x-python",
   "name": "python",
   "nbconvert_exporter": "python",
   "pygments_lexer": "ipython3",
   "version": "3.7.2"
  }
 },
 "nbformat": 4,
 "nbformat_minor": 2
}
