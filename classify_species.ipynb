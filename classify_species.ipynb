{
 "cells": [
  {
   "cell_type": "code",
   "execution_count": 2,
   "metadata": {},
   "outputs": [],
   "source": [
    "import os\n",
    "import pandas as pd"
   ]
  },
  {
   "cell_type": "markdown",
   "metadata": {},
   "source": [
    "### Classify base on species\n",
    "- for all 973 assemblies\n",
    "- both ncbi downloaded and self_assembled\n",
    "- classify them by their species\n",
    "- run roary for each species separately"
   ]
  },
  {
   "cell_type": "code",
   "execution_count": 7,
   "metadata": {},
   "outputs": [
    {
     "data": {
      "text/plain": [
       "array(['Leptospira interrogans', 'Leptospira ilyithenensis',\n",
       "       'Leptospira borgpetersenii', 'Leptospira kirschneri',\n",
       "       'Leptospira biflexa', 'Leptospira mayottensis',\n",
       "       'Leptospira bandrabouensis', 'Leptospira licerasiae',\n",
       "       'Leptospira levettii', 'Leptospira bouyouniensis',\n",
       "       'Leptospira mtsangambouensis', 'Leptospira meyeri',\n",
       "       'Leptospira adleri', 'Leptospira venezuelensis',\n",
       "       'Leptospira noguchii', 'Leptospira wolbachii',\n",
       "       'Leptospira vanthielii', 'Leptospira harrisiae',\n",
       "       'Leptospira brenneri', 'Leptospira barantonii',\n",
       "       'Leptospira weilii', 'Leptospira dzianensis',\n",
       "       'Leptospira dzoumogneensis', 'Leptospira santarosai',\n",
       "       'Leptospira elllisii', 'Leptospira wolffii', 'Leptospira kmetyi',\n",
       "       'Leptospira selangorensis', 'Leptospira putramalaysiae',\n",
       "       'Leptospira jelokensis', 'Leptospira johnsonii',\n",
       "       'Leptospira congkakensis', 'Leptospira sarikeiensis',\n",
       "       'Leptospira ellinghausenii', 'Leptospira perdikensis',\n",
       "       'Leptospira kobayashii', 'Leptospira inadai',\n",
       "       'Leptospira alexanderi', 'Leptospira fainei',\n",
       "       'Leptospira terpstrae', 'Leptospira alstonii',\n",
       "       'Leptospira broomii', 'Leptospira sp. Fiocruz LV3954',\n",
       "       'Leptospira yanagawae', 'Leptospira sp. Fiocruz LV4135',\n",
       "       'Leptospira sp. P2653', 'Leptospira sp. B5-022',\n",
       "       'Leptospira sp. serovar Kenya', 'Leptospira sp. ZV016',\n",
       "       'Leptospira tipperaryensis', 'Leptonema illini',\n",
       "       'Leptospira hartskeerlii', 'Leptospira saintgironsiae',\n",
       "       'Leptospira perolatii', 'Leptospira macculloughii',\n",
       "       'Leptospira neocaledonica', 'Leptospira haakeii',\n",
       "       'Leptospira ryugenii', 'Leptospira yasudae',\n",
       "       'Leptospira stimsonii', 'Leptospira fletcheri',\n",
       "       'Leptospira kanakyensis', 'Leptospira bourretii',\n",
       "       'Leptospira gomenensis', 'Leptospira montravelensis',\n",
       "       'Leptospira koniamboensis', 'Leptospira langatensis',\n",
       "       'Leptospira kemamanensis', 'Leptospira semungkisensis',\n",
       "       'Leptospira andrefontaineae', 'Leptospira ognonensis',\n",
       "       'Leptospira noumeaensis', 'Leptospira idonii',\n",
       "       'Leptospira fluminis'], dtype=object)"
      ]
     },
     "execution_count": 7,
     "metadata": {},
     "output_type": "execute_result"
    }
   ],
   "source": [
    "path = \"/Users/rx32940/Dropbox/5.Rachel-projects/Phylogeography/Lepto_assemblies_V2\"\n",
    "all_asm = pd.read_csv(path  + \"/ncbi+self_973.csv\")\n",
    "unique_species = pd.unique(all_asm[\"species\"])\n",
    "\n",
    "len(unique_species)\n",
    "unique_species\n"
   ]
  },
  {
   "cell_type": "code",
   "execution_count": 13,
   "metadata": {},
   "outputs": [
    {
     "name": "stdout",
     "output_type": "stream",
     "text": [
      "Leptospira elllisii\n",
      "Leptospira broomii\n",
      "Leptospira sp. Fiocruz LV3954\n",
      "Leptospira sp. Fiocruz LV4135\n",
      "Leptospira sp. P2653\n",
      "Leptospira sp. B5-022\n",
      "Leptospira sp. serovar Kenya\n",
      "Leptospira sp. ZV016\n",
      "Leptospira tipperaryensis\n",
      "Leptonema illini\n",
      "Leptospira saintgironsiae\n",
      "Leptospira perolatii\n",
      "Leptospira macculloughii\n",
      "Leptospira neocaledonica\n",
      "Leptospira haakeii\n",
      "Leptospira ryugenii\n",
      "Leptospira fletcheri\n",
      "Leptospira koniamboensis\n",
      "Leptospira kemamanensis\n",
      "Leptospira semungkisensis\n",
      "Leptospira andrefontaineae\n",
      "Leptospira ognonensis\n",
      "Leptospira noumeaensis\n",
      "Leptospira idonii\n",
      "Leptospira fluminis\n"
     ]
    }
   ],
   "source": [
    "for i in unique_species:\n",
    "    asm_in_species = all_asm[all_asm[\"species\"] == i]\n",
    "    samn_species=asm_in_species[\"Sample\"]\n",
    "    if len(samn_species) == 1:\n",
    "        print(i)\n",
    "    species_name=i.replace(\" \",\"_\")\n",
    "    \n",
    "    # write accession samn of the asm for each species into a list, rsync onto sapelo2\n",
    "#     with open(path +\"/asm_in_species/\"+ species_name +'.txt', 'w') as f:\n",
    "#         for item in samn_species:\n",
    "#             f.write(\"%s\\n\" % item)\n",
    "    # with meta data write into csv file\n",
    "#     asm_in_species.to_csv(path + \"/asm_in_species/\"+ species_name + \".csv\",header = True, index = False)\n",
    "\n"
   ]
  },
  {
   "cell_type": "code",
   "execution_count": 19,
   "metadata": {},
   "outputs": [
    {
     "data": {
      "text/plain": [
       "'Lep_sp'"
      ]
     },
     "execution_count": 19,
     "metadata": {},
     "output_type": "execute_result"
    }
   ],
   "source": []
  },
  {
   "cell_type": "code",
   "execution_count": null,
   "metadata": {},
   "outputs": [],
   "source": []
  }
 ],
 "metadata": {
  "kernelspec": {
   "display_name": "Python 3",
   "language": "python",
   "name": "python3"
  },
  "language_info": {
   "codemirror_mode": {
    "name": "ipython",
    "version": 3
   },
   "file_extension": ".py",
   "mimetype": "text/x-python",
   "name": "python",
   "nbconvert_exporter": "python",
   "pygments_lexer": "ipython3",
   "version": "3.7.4"
  }
 },
 "nbformat": 4,
 "nbformat_minor": 4
}
